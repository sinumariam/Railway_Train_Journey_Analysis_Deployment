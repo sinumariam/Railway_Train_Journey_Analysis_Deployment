{
 "cells": [
  {
   "cell_type": "markdown",
   "id": "2f882ee5-bf5d-432c-adee-f5b0ab892ef9",
   "metadata": {},
   "source": [
    "#### Name : SINU S MARIAM\n",
    "#### Designation : Machine Learning Intern  \n",
    "#### Ref : CTI/A1/C41852\n",
    "#### Organization : COGNIFYZ TECHNOLOGIES\n",
    "#### Batch Date: 23/06/2024 to 23/09/2024 \n",
    "#### Task Date : 23/07/2024 to 23/08/2024\n",
    "#### Second Month Task  - RAILWAY INFORMATION PROCESSING\n",
    "\n",
    "#### Task 4.2: Model Deployment\n",
    " \n",
    "* Prepare the final model for deployment, ensuring it is optimized and efficient.\n",
    "* Develop a pipeline for model deployment, including data preprocessing, feature engineering, and prediction."
   ]
  },
  {
   "cell_type": "code",
   "execution_count": 1,
   "id": "70404326-0c52-4419-84c0-5afd102907d5",
   "metadata": {
    "tags": []
   },
   "outputs": [],
   "source": [
    "# Import necessary libraries\n",
    "import pandas as pd\n",
    "# from Scikit-learn\n",
    "from sklearn.ensemble import RandomForestRegressor\n",
    "from sklearn.model_selection import train_test_split, GridSearchCV\n",
    "from sklearn.preprocessing import LabelEncoder\n",
    "from sklearn.metrics import mean_squared_error, r2_score\n",
    "from sklearn.pipeline import Pipeline\n",
    "from sklearn.preprocessing import MinMaxScaler\n",
    "\n",
    "from sklearn.base import BaseEstimator, TransformerMixin"
   ]
  },
  {
   "cell_type": "code",
   "execution_count": 2,
   "id": "2a144e30-5c79-4f77-a035-51f4025801c8",
   "metadata": {
    "tags": []
   },
   "outputs": [
    {
     "name": "stdout",
     "output_type": "stream",
     "text": [
      "(11113, 5)\n"
     ]
    },
    {
     "data": {
      "text/html": [
       "<div>\n",
       "<style scoped>\n",
       "    .dataframe tbody tr th:only-of-type {\n",
       "        vertical-align: middle;\n",
       "    }\n",
       "\n",
       "    .dataframe tbody tr th {\n",
       "        vertical-align: top;\n",
       "    }\n",
       "\n",
       "    .dataframe thead th {\n",
       "        text-align: right;\n",
       "    }\n",
       "</style>\n",
       "<table border=\"1\" class=\"dataframe\">\n",
       "  <thead>\n",
       "    <tr style=\"text-align: right;\">\n",
       "      <th></th>\n",
       "      <th>Train_No</th>\n",
       "      <th>Train_Name</th>\n",
       "      <th>Source_Station_Name</th>\n",
       "      <th>Destination_Station_Name</th>\n",
       "      <th>days</th>\n",
       "    </tr>\n",
       "  </thead>\n",
       "  <tbody>\n",
       "    <tr>\n",
       "      <th>0</th>\n",
       "      <td>107</td>\n",
       "      <td>SWV-MAO-VLNK</td>\n",
       "      <td>SAWANTWADI ROAD</td>\n",
       "      <td>MADGOAN JN.</td>\n",
       "      <td>Saturday</td>\n",
       "    </tr>\n",
       "    <tr>\n",
       "      <th>1</th>\n",
       "      <td>108</td>\n",
       "      <td>VLNK-MAO-SWV</td>\n",
       "      <td>MADGOAN JN.</td>\n",
       "      <td>SAWANTWADI ROAD</td>\n",
       "      <td>Friday</td>\n",
       "    </tr>\n",
       "    <tr>\n",
       "      <th>2</th>\n",
       "      <td>128</td>\n",
       "      <td>MAO-KOP SPEC</td>\n",
       "      <td>MADGOAN JN.</td>\n",
       "      <td>CHHATRAPATI SHAHU MAHARAJ TERMINUS</td>\n",
       "      <td>Friday</td>\n",
       "    </tr>\n",
       "    <tr>\n",
       "      <th>3</th>\n",
       "      <td>290</td>\n",
       "      <td>PALACE ON WH</td>\n",
       "      <td>DELHI-SAFDAR JANG</td>\n",
       "      <td>DELHI-SAFDAR JANG</td>\n",
       "      <td>Wednesday</td>\n",
       "    </tr>\n",
       "    <tr>\n",
       "      <th>4</th>\n",
       "      <td>401</td>\n",
       "      <td>BSB BHARATDA</td>\n",
       "      <td>AURANGABAD</td>\n",
       "      <td>VARANASI JN.</td>\n",
       "      <td>Saturday</td>\n",
       "    </tr>\n",
       "  </tbody>\n",
       "</table>\n",
       "</div>"
      ],
      "text/plain": [
       "   Train_No    Train_Name Source_Station_Name  \\\n",
       "0       107  SWV-MAO-VLNK     SAWANTWADI ROAD   \n",
       "1       108  VLNK-MAO-SWV         MADGOAN JN.   \n",
       "2       128  MAO-KOP SPEC         MADGOAN JN.   \n",
       "3       290  PALACE ON WH   DELHI-SAFDAR JANG   \n",
       "4       401  BSB BHARATDA          AURANGABAD   \n",
       "\n",
       "             Destination_Station_Name       days  \n",
       "0                         MADGOAN JN.   Saturday  \n",
       "1                     SAWANTWADI ROAD     Friday  \n",
       "2  CHHATRAPATI SHAHU MAHARAJ TERMINUS     Friday  \n",
       "3                   DELHI-SAFDAR JANG  Wednesday  \n",
       "4                        VARANASI JN.   Saturday  "
      ]
     },
     "execution_count": 2,
     "metadata": {},
     "output_type": "execute_result"
    }
   ],
   "source": [
    "#importing Data\n",
    "data_frame = pd.read_csv('C:/Users/sinus/OneDrive/Documents/COGNIFYZ/secondmonth/Railway_info.csv')\n",
    "# rows and columns of the data\n",
    "print(data_frame.shape)\n",
    "# visualise the dataset\n",
    "data_frame.head()"
   ]
  },
  {
   "cell_type": "code",
   "execution_count": 3,
   "id": "fd4d3c18-7b35-4aad-a9da-525338d8f668",
   "metadata": {
    "tags": []
   },
   "outputs": [],
   "source": [
    "class ReplaceDaysTransformer(BaseEstimator, TransformerMixin):\n",
    "    def __init__(self):\n",
    "        self.replacements = {\n",
    "            'Mondayd': 'Monday',\n",
    "            'Tuesdayd': 'Tuesday',\n",
    "            'Wednesdayd': 'Wednesday',\n",
    "            'Thursdayd': 'Thursday',\n",
    "            'Fridayd': 'Friday',\n",
    "            'Saturdayd': 'Saturday',\n",
    "            'Sundayd': 'Sunday'\n",
    "        }\n",
    "    \n",
    "    def fit(self, X, y=None):\n",
    "        return self  # Nothing to fit here\n",
    "\n",
    "    def transform(self, X):\n",
    "        X['days'] = X['days'].replace(self.replacements)\n",
    "        return X"
   ]
  },
  {
   "cell_type": "code",
   "execution_count": 4,
   "id": "9ee5e227-cada-46f1-a3c9-0aa0a8bcc0e8",
   "metadata": {},
   "outputs": [],
   "source": [
    "# Define function for cleaning data\n",
    "import re\n",
    "def Pre_process_text(act_string):\n",
    "    # remove all values other than alphabets\n",
    "    new_string= re.sub(r'[^a-zA-Z0-9]',\" \", act_string)\n",
    "    # Lowercasing\n",
    "    new_string = act_string.upper()\n",
    "    return new_string"
   ]
  },
  {
   "cell_type": "code",
   "execution_count": 5,
   "id": "94de8f7a-8b33-4afd-a137-53fd9bc00c93",
   "metadata": {},
   "outputs": [],
   "source": [
    "# class for cleaning Text\n",
    "class MultiColumnTextCleaner(BaseEstimator, TransformerMixin):\n",
    "    def __init__(self, columns):\n",
    "        self.columns = columns\n",
    "    \n",
    "    def fit(self, X, y=None):\n",
    "        return self\n",
    "    \n",
    "    def transform(self, X, y=None):\n",
    "        for column in self.columns:\n",
    "            X[column] = X[column].apply(Pre_process_text)\n",
    "        return X\n",
    "# Specify the columns to be cleaned\n",
    "columns_to_clean = ['Source_Station_Name', 'Destination_Station_Name', 'days']"
   ]
  },
  {
   "cell_type": "code",
   "execution_count": 6,
   "id": "82f63dfc-042a-43c8-ab0c-2aeca1bdeb6f",
   "metadata": {},
   "outputs": [],
   "source": [
    "# Define the function to create a weekday or weekend\n",
    "def weekday_or_not(day):\n",
    "    day = day.upper()  # Ensure that the day is in uppercase for consistent comparison\n",
    "    if day in ['SATURDAY', 'SUNDAY']:\n",
    "        return 'Weekend'\n",
    "    else:\n",
    "        return 'Weekday'"
   ]
  },
  {
   "cell_type": "code",
   "execution_count": 7,
   "id": "020e5c80-f813-4dfc-a187-b568cc0a6a4e",
   "metadata": {},
   "outputs": [],
   "source": [
    "#Class for distinguishing weekend or weekday\n",
    "class WeekendWeekdayTransformer(BaseEstimator, TransformerMixin):\n",
    "    def __init__(self, day_column, new_column):\n",
    "        self.day_column = day_column\n",
    "        self.new_column = new_column\n",
    "    \n",
    "    def fit(self, X, y=None):\n",
    "        return self\n",
    "    \n",
    "    def transform(self, X, y=None):\n",
    "        X[self.new_column] = X[self.day_column].apply(weekday_or_not)\n",
    "        return X"
   ]
  },
  {
   "cell_type": "code",
   "execution_count": 8,
   "id": "9ffc054a-9671-426b-87d8-56dac1ba70fb",
   "metadata": {},
   "outputs": [],
   "source": [
    "# class for label encoding\n",
    "class MultiColumnLabelEncoder(BaseEstimator, TransformerMixin):\n",
    "    def __init__(self, columns=None):\n",
    "        self.columns = columns\n",
    "        self.encoders = {column: LabelEncoder() for column in columns}\n",
    "    \n",
    "    def fit(self, X, y=None):\n",
    "        for column in self.columns:\n",
    "            self.encoders[column].fit(X[column])\n",
    "        return self\n",
    "    \n",
    "    def transform(self, X, y=None):\n",
    "        #X = X.copy()  # To avoid modifying the original DataFrame\n",
    "        for column in self.columns:\n",
    "            X[column] = self.encoders[column].transform(X[column])\n",
    "        return X\n",
    "feature_columns = ['Train_Name', 'Source_Station_Name', 'Destination_Station_Name', 'days', 'WEEKEND_OR_WEEKDAY']"
   ]
  },
  {
   "cell_type": "code",
   "execution_count": 9,
   "id": "94358353-983d-462b-8430-1daa6d4af65c",
   "metadata": {},
   "outputs": [],
   "source": [
    "# Frequency of Operation\n",
    "data_frame['Frequency_of_operation'] = data_frame.groupby(['Train_No','Train_Name', 'Source_Station_Name', 'Destination_Station_Name'])['Train_No'].transform('count')"
   ]
  },
  {
   "cell_type": "code",
   "execution_count": 10,
   "id": "52af0714-2976-4633-aa4a-787ef9b24e8a",
   "metadata": {},
   "outputs": [],
   "source": [
    "#First step in building the model is to identify the Feature(Input) variables and Target (Output) variable\n",
    "features = data_frame.drop(['Frequency_of_operation'], axis=1)\n",
    "target = data_frame['Frequency_of_operation']\n",
    "# Splitting data for training the model and testing the model\n",
    "# train size taken as 0.8\n",
    "X_train, X_test, y_train, y_test = train_test_split(features, target, train_size = .8)"
   ]
  },
  {
   "cell_type": "code",
   "execution_count": 11,
   "id": "0456cf96-9b8a-4104-92b0-7acfbb7aa905",
   "metadata": {
    "tags": []
   },
   "outputs": [],
   "source": [
    "# Pre processing Pipeline\n",
    "Pre_pipeline = Pipeline([\n",
    "    ('replace_days', ReplaceDaysTransformer()),\n",
    "    ('text_cleaning', MultiColumnTextCleaner(columns=columns_to_clean)),\n",
    "    ('weekend_weekday', WeekendWeekdayTransformer(day_column='days', new_column='WEEKEND_OR_WEEKDAY')),\n",
    "    ('label_encoding', MultiColumnLabelEncoder(columns=feature_columns)),\n",
    "    ('scaler', MinMaxScaler()),  \n",
    "])"
   ]
  },
  {
   "cell_type": "code",
   "execution_count": 12,
   "id": "935ea63a-207c-4601-ae86-22f9039bd25d",
   "metadata": {},
   "outputs": [],
   "source": [
    "# Fit and transform X_train\n",
    "X_train_processed = Pre_pipeline.fit_transform(X_train)"
   ]
  },
  {
   "cell_type": "code",
   "execution_count": 13,
   "id": "40273284-4811-491a-9f38-0a63fa603b27",
   "metadata": {},
   "outputs": [],
   "source": [
    "# Transform X_test\n",
    "X_test_processed = Pre_pipeline.fit_transform(X_test)"
   ]
  },
  {
   "cell_type": "code",
   "execution_count": 14,
   "id": "403c553c-5aea-4121-83c1-ddbf57635b3d",
   "metadata": {},
   "outputs": [],
   "source": [
    "from sklearn.ensemble import RandomForestRegressor\n",
    "from sklearn.model_selection import GridSearchCV\n",
    "from sklearn.pipeline import Pipeline\n",
    "from sklearn.metrics import accuracy_score,precision_score,recall_score,f1_score\n",
    "from sklearn.metrics import mean_squared_error\n",
    "import joblib"
   ]
  },
  {
   "cell_type": "code",
   "execution_count": 15,
   "id": "e98849ad-9fa4-40b5-8035-92a8403c49ce",
   "metadata": {},
   "outputs": [],
   "source": [
    "# Define the pipeline for modelling\n",
    "pipeline = Pipeline([\n",
    "    ('rf', RandomForestRegressor(random_state=42))  # Step 2: Random Forest Regressor\n",
    "])"
   ]
  },
  {
   "cell_type": "code",
   "execution_count": 16,
   "id": "e55b02fa-9514-4dc1-b5a2-c678a2c1802e",
   "metadata": {},
   "outputs": [
    {
     "name": "stdout",
     "output_type": "stream",
     "text": [
      "Fitting 5 folds for each of 108 candidates, totalling 540 fits\n",
      "Best Hyperparameters: {'rf__max_depth': None, 'rf__min_samples_leaf': 1, 'rf__min_samples_split': 2, 'rf__n_estimators': 50}\n",
      "Mean Squared Error: 0.0\n",
      "Root Mean Squared Error: 0.0\n"
     ]
    },
    {
     "data": {
      "text/plain": [
       "['best_random_forest_pipeline.pkl']"
      ]
     },
     "execution_count": 16,
     "metadata": {},
     "output_type": "execute_result"
    }
   ],
   "source": [
    "# Hyperparameters grid to search over\n",
    "param_grid = {\n",
    "    'rf__n_estimators': [50, 100, 200],      # Number of trees in the forest\n",
    "    'rf__max_depth': [None, 10, 20, 30],     # Maximum depth of the tree\n",
    "    'rf__min_samples_split': [2, 5, 10],     # Minimum number of samples required to split an internal node\n",
    "    'rf__min_samples_leaf': [1, 2, 4]        # Minimum number of samples required to be at a leaf node\n",
    "}\n",
    "\n",
    "# GridSearchCV with the pipeline\n",
    "grid_search = GridSearchCV(estimator=pipeline, param_grid=param_grid, cv=5, n_jobs=-1, verbose=2, scoring='neg_mean_squared_error')\n",
    "\n",
    "# Fit the pipeline with the training data\n",
    "grid_search.fit(X_train_processed, y_train)\n",
    "\n",
    "# Extract the best model from the grid search\n",
    "best_pipeline = grid_search.best_estimator_\n",
    "\n",
    "# Make predictions on the test data\n",
    "y_pred_RFG = best_pipeline.predict(X_test_processed)\n",
    "\n",
    "# Evaluate the model\n",
    "mse = mean_squared_error(y_test, y_pred_RFG)\n",
    "rmse = mse ** 0.5\n",
    "\n",
    "print(f\"Best Hyperparameters: {grid_search.best_params_}\")\n",
    "print(f\"Mean Squared Error: {mse}\")\n",
    "print(f\"Root Mean Squared Error: {rmse}\")\n",
    "\n",
    "# Save the best pipeline for future use\n",
    "joblib.dump(best_pipeline, 'best_random_forest_pipeline.pkl')"
   ]
  },
  {
   "cell_type": "code",
   "execution_count": 17,
   "id": "56581332-8365-48d8-abcb-13c825f95f34",
   "metadata": {},
   "outputs": [],
   "source": [
    "#### Evaluation"
   ]
  },
  {
   "cell_type": "code",
   "execution_count": 18,
   "id": "031daf62-52b3-4a9a-927c-8c5b69e72f4d",
   "metadata": {
    "tags": []
   },
   "outputs": [
    {
     "data": {
      "text/plain": [
       "1.0"
      ]
     },
     "execution_count": 18,
     "metadata": {},
     "output_type": "execute_result"
    }
   ],
   "source": [
    "# find Coefficient of Determination or R Squared Value (r2)\n",
    "r2_score(y_test,y_pred_RFG)"
   ]
  },
  {
   "cell_type": "code",
   "execution_count": 19,
   "id": "a0a42a87-5ba6-48d9-9921-b2af511e474d",
   "metadata": {
    "tags": []
   },
   "outputs": [
    {
     "data": {
      "text/plain": [
       "1.0"
      ]
     },
     "execution_count": 19,
     "metadata": {},
     "output_type": "execute_result"
    }
   ],
   "source": [
    "accuracy_score(y_test, y_pred_RFG)"
   ]
  },
  {
   "cell_type": "code",
   "execution_count": 20,
   "id": "01d3733d-d88b-4224-9ed7-834fb7f666dd",
   "metadata": {
    "tags": []
   },
   "outputs": [
    {
     "data": {
      "text/plain": [
       "1.0"
      ]
     },
     "execution_count": 20,
     "metadata": {},
     "output_type": "execute_result"
    }
   ],
   "source": [
    "precision_score(y_test, y_pred_RFG)"
   ]
  },
  {
   "cell_type": "code",
   "execution_count": 21,
   "id": "6a0b6d4d-86b9-4900-991f-e00dcc62d21d",
   "metadata": {
    "tags": []
   },
   "outputs": [
    {
     "data": {
      "text/plain": [
       "1.0"
      ]
     },
     "execution_count": 21,
     "metadata": {},
     "output_type": "execute_result"
    }
   ],
   "source": [
    "recall_score(y_test, y_pred_RFG)"
   ]
  },
  {
   "cell_type": "markdown",
   "id": "3b688039-8487-47e4-89a4-4835dbf3540d",
   "metadata": {},
   "source": [
    "-------------------------------THE END----------------------------------"
   ]
  }
 ],
 "metadata": {
  "kernelspec": {
   "display_name": "Python 3 (ipykernel)",
   "language": "python",
   "name": "python3"
  },
  "language_info": {
   "codemirror_mode": {
    "name": "ipython",
    "version": 3
   },
   "file_extension": ".py",
   "mimetype": "text/x-python",
   "name": "python",
   "nbconvert_exporter": "python",
   "pygments_lexer": "ipython3",
   "version": "3.11.4"
  }
 },
 "nbformat": 4,
 "nbformat_minor": 5
}
