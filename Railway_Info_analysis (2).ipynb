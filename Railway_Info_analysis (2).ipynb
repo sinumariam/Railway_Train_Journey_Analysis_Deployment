{
 "cells": [
  {
   "cell_type": "markdown",
   "id": "321d35d8-6a78-4d94-b2ab-e801455b0e40",
   "metadata": {},
   "source": [
    "#### Name : SINU S MARIAM\n",
    "#### Designation : Machine Learning Intern  \n",
    "#### Organization : COGNIFYZ TECHNOLOGIES\n",
    "#### Ref : CTI/A1/C41852\n",
    "#### Batch Date: 23/06/2024 to 23/09/2024 \n",
    "#### Task Date : 23/07/2024 to 23/08/2024\n",
    "#### Second Month Task  - RAILWAY INFORMATION PROCESSING"
   ]
  },
  {
   "cell_type": "markdown",
   "id": "50c0a7e8-51bb-4311-880a-0096e47cfb60",
   "metadata": {},
   "source": [
    "### Level 1: Data Exploration and Preprocessing\n",
    "#### Task 1.1: Load and Inspect Data\n",
    "* Load the dataset and display the first 10 rows.\n",
    "* Understand the basic structure of the data, including data types and missing values."
   ]
  },
  {
   "cell_type": "code",
   "execution_count": 1,
   "id": "cd4125e5-1f90-4ec9-8290-d96b0ac00128",
   "metadata": {
    "tags": []
   },
   "outputs": [],
   "source": [
    "#importing necessary libraries \n",
    "import numpy as np\n",
    "import pandas as pd\n",
    "import warnings \n",
    "warnings.filterwarnings('ignore')\n",
    "#importing libraries for visualisation\n",
    "import matplotlib.pyplot as plt\n",
    "from matplotlib import style\n",
    "import seaborn as sns"
   ]
  },
  {
   "cell_type": "code",
   "execution_count": 2,
   "id": "81e70507-1ad7-47c5-bf0e-ce6d06203c1d",
   "metadata": {
    "tags": []
   },
   "outputs": [],
   "source": [
    "#importing Data\n",
    "data_frame = pd.read_csv('C:/Users/sinus/OneDrive/Documents/COGNIFYZ/secondmonth/Railway_info.csv')"
   ]
  },
  {
   "cell_type": "markdown",
   "id": "fb1a4fd4-29a8-4f9f-8c90-7362367448e8",
   "metadata": {},
   "source": [
    "####  Performing descriptive analysis. Understand the variables and their corresponding values. "
   ]
  },
  {
   "cell_type": "code",
   "execution_count": 3,
   "id": "f7b31184-41c9-47dd-b12d-7212042ced93",
   "metadata": {
    "tags": []
   },
   "outputs": [
    {
     "data": {
      "text/plain": [
       "(11113, 5)"
      ]
     },
     "execution_count": 3,
     "metadata": {},
     "output_type": "execute_result"
    }
   ],
   "source": [
    "# Understanding the dimensions of train data\n",
    "data_frame.shape"
   ]
  },
  {
   "cell_type": "code",
   "execution_count": 4,
   "id": "410c621e-4107-436a-ba7a-d0a25b300251",
   "metadata": {
    "tags": []
   },
   "outputs": [
    {
     "name": "stdout",
     "output_type": "stream",
     "text": [
      "<class 'pandas.core.frame.DataFrame'>\n",
      "RangeIndex: 11113 entries, 0 to 11112\n",
      "Data columns (total 5 columns):\n",
      " #   Column                    Non-Null Count  Dtype \n",
      "---  ------                    --------------  ----- \n",
      " 0   Train_No                  11113 non-null  int64 \n",
      " 1   Train_Name                11113 non-null  object\n",
      " 2   Source_Station_Name       11113 non-null  object\n",
      " 3   Destination_Station_Name  11113 non-null  object\n",
      " 4   days                      11113 non-null  object\n",
      "dtypes: int64(1), object(4)\n",
      "memory usage: 434.2+ KB\n"
     ]
    }
   ],
   "source": [
    "# Understanding the Data Variables\n",
    "data_frame.info()"
   ]
  },
  {
   "cell_type": "code",
   "execution_count": 5,
   "id": "77c5a681-c4a5-47d9-aa87-c06942204ed7",
   "metadata": {
    "tags": []
   },
   "outputs": [
    {
     "data": {
      "text/plain": [
       "Index(['Train_No', 'Train_Name', 'Source_Station_Name',\n",
       "       'Destination_Station_Name', 'days'],\n",
       "      dtype='object')"
      ]
     },
     "execution_count": 5,
     "metadata": {},
     "output_type": "execute_result"
    }
   ],
   "source": [
    "#Displaying columns \n",
    "data_frame.columns"
   ]
  },
  {
   "cell_type": "code",
   "execution_count": 6,
   "id": "214995a4-763d-426c-9188-fbd20f927742",
   "metadata": {
    "tags": []
   },
   "outputs": [
    {
     "data": {
      "text/html": [
       "<div>\n",
       "<style scoped>\n",
       "    .dataframe tbody tr th:only-of-type {\n",
       "        vertical-align: middle;\n",
       "    }\n",
       "\n",
       "    .dataframe tbody tr th {\n",
       "        vertical-align: top;\n",
       "    }\n",
       "\n",
       "    .dataframe thead th {\n",
       "        text-align: right;\n",
       "    }\n",
       "</style>\n",
       "<table border=\"1\" class=\"dataframe\">\n",
       "  <thead>\n",
       "    <tr style=\"text-align: right;\">\n",
       "      <th></th>\n",
       "      <th>Train_No</th>\n",
       "      <th>Train_Name</th>\n",
       "      <th>Source_Station_Name</th>\n",
       "      <th>Destination_Station_Name</th>\n",
       "      <th>days</th>\n",
       "    </tr>\n",
       "  </thead>\n",
       "  <tbody>\n",
       "    <tr>\n",
       "      <th>0</th>\n",
       "      <td>107</td>\n",
       "      <td>SWV-MAO-VLNK</td>\n",
       "      <td>SAWANTWADI ROAD</td>\n",
       "      <td>MADGOAN JN.</td>\n",
       "      <td>Saturday</td>\n",
       "    </tr>\n",
       "    <tr>\n",
       "      <th>1</th>\n",
       "      <td>108</td>\n",
       "      <td>VLNK-MAO-SWV</td>\n",
       "      <td>MADGOAN JN.</td>\n",
       "      <td>SAWANTWADI ROAD</td>\n",
       "      <td>Friday</td>\n",
       "    </tr>\n",
       "    <tr>\n",
       "      <th>2</th>\n",
       "      <td>128</td>\n",
       "      <td>MAO-KOP SPEC</td>\n",
       "      <td>MADGOAN JN.</td>\n",
       "      <td>CHHATRAPATI SHAHU MAHARAJ TERMINUS</td>\n",
       "      <td>Friday</td>\n",
       "    </tr>\n",
       "    <tr>\n",
       "      <th>3</th>\n",
       "      <td>290</td>\n",
       "      <td>PALACE ON WH</td>\n",
       "      <td>DELHI-SAFDAR JANG</td>\n",
       "      <td>DELHI-SAFDAR JANG</td>\n",
       "      <td>Wednesday</td>\n",
       "    </tr>\n",
       "    <tr>\n",
       "      <th>4</th>\n",
       "      <td>401</td>\n",
       "      <td>BSB BHARATDA</td>\n",
       "      <td>AURANGABAD</td>\n",
       "      <td>VARANASI JN.</td>\n",
       "      <td>Saturday</td>\n",
       "    </tr>\n",
       "    <tr>\n",
       "      <th>5</th>\n",
       "      <td>421</td>\n",
       "      <td>LKO-SVDK FTR</td>\n",
       "      <td>LUCKNOW JN.</td>\n",
       "      <td>SHRI MATA VAISHNO DEVI KATRA</td>\n",
       "      <td>Tuesday</td>\n",
       "    </tr>\n",
       "    <tr>\n",
       "      <th>6</th>\n",
       "      <td>422</td>\n",
       "      <td>SVDK-LKO FTR</td>\n",
       "      <td>SHRI MATA VAISHNO DEVI KATRA</td>\n",
       "      <td>LUCKNOW JN.</td>\n",
       "      <td>Monday</td>\n",
       "    </tr>\n",
       "    <tr>\n",
       "      <th>7</th>\n",
       "      <td>477</td>\n",
       "      <td>FTR TRAIN NO</td>\n",
       "      <td>SIRSA</td>\n",
       "      <td>SIRSA</td>\n",
       "      <td>Sunday</td>\n",
       "    </tr>\n",
       "    <tr>\n",
       "      <th>8</th>\n",
       "      <td>502</td>\n",
       "      <td>RJPB-UMB FTR</td>\n",
       "      <td>RAJENDRANAGAR TERMINAL</td>\n",
       "      <td>AMBALA CANTT JN</td>\n",
       "      <td>Monday</td>\n",
       "    </tr>\n",
       "    <tr>\n",
       "      <th>9</th>\n",
       "      <td>504</td>\n",
       "      <td>PNBE-BTI FTR</td>\n",
       "      <td>PATNA JN.</td>\n",
       "      <td>BATHINDA JN</td>\n",
       "      <td>Wednesday</td>\n",
       "    </tr>\n",
       "  </tbody>\n",
       "</table>\n",
       "</div>"
      ],
      "text/plain": [
       "   Train_No    Train_Name           Source_Station_Name  \\\n",
       "0       107  SWV-MAO-VLNK               SAWANTWADI ROAD   \n",
       "1       108  VLNK-MAO-SWV                   MADGOAN JN.   \n",
       "2       128  MAO-KOP SPEC                   MADGOAN JN.   \n",
       "3       290  PALACE ON WH             DELHI-SAFDAR JANG   \n",
       "4       401  BSB BHARATDA                    AURANGABAD   \n",
       "5       421  LKO-SVDK FTR                   LUCKNOW JN.   \n",
       "6       422  SVDK-LKO FTR  SHRI MATA VAISHNO DEVI KATRA   \n",
       "7       477  FTR TRAIN NO                         SIRSA   \n",
       "8       502  RJPB-UMB FTR        RAJENDRANAGAR TERMINAL   \n",
       "9       504  PNBE-BTI FTR                     PATNA JN.   \n",
       "\n",
       "             Destination_Station_Name       days  \n",
       "0                         MADGOAN JN.   Saturday  \n",
       "1                     SAWANTWADI ROAD     Friday  \n",
       "2  CHHATRAPATI SHAHU MAHARAJ TERMINUS     Friday  \n",
       "3                   DELHI-SAFDAR JANG  Wednesday  \n",
       "4                        VARANASI JN.   Saturday  \n",
       "5        SHRI MATA VAISHNO DEVI KATRA    Tuesday  \n",
       "6                         LUCKNOW JN.     Monday  \n",
       "7                               SIRSA     Sunday  \n",
       "8                     AMBALA CANTT JN     Monday  \n",
       "9                         BATHINDA JN  Wednesday  "
      ]
     },
     "execution_count": 6,
     "metadata": {},
     "output_type": "execute_result"
    }
   ],
   "source": [
    "# Show the top 10 Rows of data\n",
    "data_frame.head(10)"
   ]
  },
  {
   "cell_type": "code",
   "execution_count": 7,
   "id": "d2980e20-03db-460c-9663-3c3ef8bfed56",
   "metadata": {
    "tags": []
   },
   "outputs": [
    {
     "data": {
      "text/plain": [
       "0"
      ]
     },
     "execution_count": 7,
     "metadata": {},
     "output_type": "execute_result"
    }
   ],
   "source": [
    "# Checking for any Duplicated Entries\n",
    "data_frame.duplicated().sum()"
   ]
  },
  {
   "cell_type": "code",
   "execution_count": 8,
   "id": "b407f23c-854a-4cfb-8640-29cbefd2440b",
   "metadata": {
    "tags": []
   },
   "outputs": [
    {
     "data": {
      "text/plain": [
       "Train_No                    0\n",
       "Train_Name                  0\n",
       "Source_Station_Name         0\n",
       "Destination_Station_Name    0\n",
       "days                        0\n",
       "dtype: int64"
      ]
     },
     "execution_count": 8,
     "metadata": {},
     "output_type": "execute_result"
    }
   ],
   "source": [
    "#Detecting missing values\n",
    "data_frame.isna().sum()"
   ]
  },
  {
   "cell_type": "markdown",
   "id": "305eb8ed-d528-48c3-8591-fedfea3d258f",
   "metadata": {},
   "source": [
    "#### Task 1.2: Basic Statistics\n",
    "##### Calculate basic statistics such as:\n",
    "* The number of trains.\n",
    "* The count of unique source stations and destination stations.\n",
    "* Find the most common source and destination stations."
   ]
  },
  {
   "cell_type": "code",
   "execution_count": 9,
   "id": "a4abc1da-5edd-4aab-a2cd-38aacfe22ecd",
   "metadata": {
    "tags": []
   },
   "outputs": [
    {
     "data": {
      "text/plain": [
       "11113"
      ]
     },
     "execution_count": 9,
     "metadata": {},
     "output_type": "execute_result"
    }
   ],
   "source": [
    "data_frame['Train_No'].nunique()"
   ]
  },
  {
   "cell_type": "code",
   "execution_count": 10,
   "id": "dc027e99-f932-447e-8eae-73afb54611eb",
   "metadata": {},
   "outputs": [
    {
     "data": {
      "text/plain": [
       "7580"
      ]
     },
     "execution_count": 10,
     "metadata": {},
     "output_type": "execute_result"
    }
   ],
   "source": [
    "data_frame['Train_Name'].nunique()"
   ]
  },
  {
   "cell_type": "markdown",
   "id": "359e775b-0282-47da-9949-e3a33eb0cee6",
   "metadata": {},
   "source": [
    "* There are 11113 Trains No's and 7580 different Train names in dataset"
   ]
  },
  {
   "cell_type": "code",
   "execution_count": 11,
   "id": "9d920ac6-48fe-4b7a-b391-3c506bfe412e",
   "metadata": {
    "tags": []
   },
   "outputs": [
    {
     "data": {
      "text/plain": [
       "921"
      ]
     },
     "execution_count": 11,
     "metadata": {},
     "output_type": "execute_result"
    }
   ],
   "source": [
    "data_frame['Source_Station_Name'].nunique()"
   ]
  },
  {
   "cell_type": "code",
   "execution_count": 12,
   "id": "20ec9539-55f6-4055-88e2-41a68b0a4b4b",
   "metadata": {
    "tags": []
   },
   "outputs": [
    {
     "data": {
      "text/plain": [
       "924"
      ]
     },
     "execution_count": 12,
     "metadata": {},
     "output_type": "execute_result"
    }
   ],
   "source": [
    "data_frame['Destination_Station_Name'].nunique()"
   ]
  },
  {
   "cell_type": "markdown",
   "id": "9b2814e8-d8da-4f51-a72d-32e9433cc2cd",
   "metadata": {},
   "source": [
    "* There are 921 unique source stations and 924 unique destination stations."
   ]
  },
  {
   "cell_type": "code",
   "execution_count": 13,
   "id": "1864e584-b3ae-4b51-a5c1-0e0d235f9616",
   "metadata": {
    "tags": []
   },
   "outputs": [
    {
     "data": {
      "text/plain": [
       "CST-MUMBAI         513\n",
       "SEALDAH            372\n",
       "CHENNAI BEACH      339\n",
       "HOWRAH JN.         338\n",
       "KALYAN JN          285\n",
       "                  ... \n",
       "MANENDRAGARH         1\n",
       "LANJI GARH ROAD      1\n",
       "FURKATING JN.        1\n",
       "TALCHER              1\n",
       "KOLAGHAT             1\n",
       "Name: Source_Station_Name, Length: 921, dtype: int64"
      ]
     },
     "execution_count": 13,
     "metadata": {},
     "output_type": "execute_result"
    }
   ],
   "source": [
    "data_frame['Source_Station_Name'].value_counts()"
   ]
  },
  {
   "cell_type": "code",
   "execution_count": 14,
   "id": "17837b30-3474-44c0-90c1-16c93f7551aa",
   "metadata": {
    "tags": []
   },
   "outputs": [
    {
     "data": {
      "text/plain": [
       "CST-MUMBAI         514\n",
       "SEALDAH            373\n",
       "CHENNAI BEACH      342\n",
       "HOWRAH JN.         337\n",
       "KALYAN JN          284\n",
       "                  ... \n",
       "KENDUJHAR            1\n",
       "TORI                 1\n",
       "GARWA ROAD JN.       1\n",
       "WADSA                1\n",
       "LANJI GARH ROAD      1\n",
       "Name: Destination_Station_Name, Length: 924, dtype: int64"
      ]
     },
     "execution_count": 14,
     "metadata": {},
     "output_type": "execute_result"
    }
   ],
   "source": [
    "data_frame['Destination_Station_Name'].value_counts()"
   ]
  },
  {
   "cell_type": "markdown",
   "id": "f81a5b1b-df40-4d36-8e71-3024610d977d",
   "metadata": {},
   "source": [
    "* 'CST-MUMBAI' is the most common station name among source and destination stations"
   ]
  },
  {
   "cell_type": "markdown",
   "id": "79451369-a81e-4f21-9291-177681c78654",
   "metadata": {},
   "source": [
    "#### Task 1.3: Data Cleaning\n",
    "* Identify and handle missing values in the dataset using appropriate imputation techniques.\n",
    "* Standardize the format of station names (e.g., make all names uppercase)."
   ]
  },
  {
   "cell_type": "code",
   "execution_count": 15,
   "id": "59e7ce0f-2144-4967-9dec-b3fb5507b58f",
   "metadata": {
    "tags": []
   },
   "outputs": [
    {
     "data": {
      "text/plain": [
       "Friday        1471\n",
       "Tuesday       1454\n",
       "Wednesday     1448\n",
       "Saturday      1441\n",
       "Sunday        1432\n",
       "Thursday      1372\n",
       "Monday        1342\n",
       "Fridayd        178\n",
       "Tuesdayd       174\n",
       "Sundayd        170\n",
       "Wednesdayd     164\n",
       "Mondayd        161\n",
       "Thursdayd      154\n",
       "Saturdayd      152\n",
       "Name: days, dtype: int64"
      ]
     },
     "execution_count": 15,
     "metadata": {},
     "output_type": "execute_result"
    }
   ],
   "source": [
    "data_frame['days'].value_counts()"
   ]
  },
  {
   "cell_type": "markdown",
   "id": "7a453469-5ec5-4e35-90c8-44b288bfd2e0",
   "metadata": {},
   "source": [
    "##### * From the values of 'days' , we can understand that the variables needs data cleaning as it contains spelling mistakes"
   ]
  },
  {
   "cell_type": "code",
   "execution_count": 16,
   "id": "9425d428-b74a-45b2-b749-728cd56bc849",
   "metadata": {},
   "outputs": [
    {
     "data": {
      "text/plain": [
       "Friday       1649\n",
       "Tuesday      1628\n",
       "Wednesday    1612\n",
       "Sunday       1602\n",
       "Saturday     1593\n",
       "Thursday     1526\n",
       "Monday       1503\n",
       "Name: days, dtype: int64"
      ]
     },
     "execution_count": 16,
     "metadata": {},
     "output_type": "execute_result"
    }
   ],
   "source": [
    "# Remove spelling mistakes from variable 'days'\n",
    "data_frame['days'].replace({'Mondayd': 'Monday', 'Tuesdayd': 'Tuesday','Wednesdayd': 'Wednesday','Thursdayd': 'Thursday','Fridayd': 'Friday','Saturdayd': 'Saturday','Sundayd': 'Sunday'}, inplace=True)\n",
    "data_frame['days'].value_counts()\n"
   ]
  },
  {
   "cell_type": "code",
   "execution_count": 17,
   "id": "22f02c6d-0793-42f2-bb69-fde5e4c2c40c",
   "metadata": {
    "tags": []
   },
   "outputs": [],
   "source": [
    "# Define function for cleaning data\n",
    "import re\n",
    "def Pre_process_text(act_string):\n",
    "    # remove all values other than alphabets\n",
    "    new_string= re.sub(r'[^a-zA-Z0-9]',\" \", act_string)\n",
    "    # Lowercasing\n",
    "    new_string = act_string.upper()\n",
    "    return new_string"
   ]
  },
  {
   "cell_type": "code",
   "execution_count": 18,
   "id": "b1f9e0df-8fa5-4459-841a-3fbeddefaa54",
   "metadata": {
    "tags": []
   },
   "outputs": [],
   "source": [
    "# Text Cleaning for column 'Source_Station_Name'\n",
    "data_frame['Source_Station_Name']=data_frame['Source_Station_Name'].apply(Pre_process_text)"
   ]
  },
  {
   "cell_type": "code",
   "execution_count": 19,
   "id": "85c3a6c1-4adc-4d43-8a7f-b9f92ca8120d",
   "metadata": {
    "tags": []
   },
   "outputs": [],
   "source": [
    "# Text Cleaning for column Destination_Station_Name' and 'days'\n",
    "data_frame['Destination_Station_Name']=data_frame['Destination_Station_Name'].apply(Pre_process_text)\n",
    "data_frame['days']=data_frame['days'].apply(Pre_process_text)"
   ]
  },
  {
   "cell_type": "markdown",
   "id": "455e3c08-2af2-4d45-af48-08991ae63c66",
   "metadata": {},
   "source": [
    "#### Level 2: Feature Engineering and Selection\n",
    "* Task 2.1: Data Filtering\n",
    "* Filter the data to show trains that operate on specific days (e.g., only on Saturdays).\n",
    "* Extract and create a new data frame for trains that start from a specific station."
   ]
  },
  {
   "cell_type": "code",
   "execution_count": 20,
   "id": "e600b073-0e1c-4f8b-8d36-4c82194ca4bc",
   "metadata": {
    "tags": []
   },
   "outputs": [
    {
     "data": {
      "text/html": [
       "<div>\n",
       "<style scoped>\n",
       "    .dataframe tbody tr th:only-of-type {\n",
       "        vertical-align: middle;\n",
       "    }\n",
       "\n",
       "    .dataframe tbody tr th {\n",
       "        vertical-align: top;\n",
       "    }\n",
       "\n",
       "    .dataframe thead th {\n",
       "        text-align: right;\n",
       "    }\n",
       "</style>\n",
       "<table border=\"1\" class=\"dataframe\">\n",
       "  <thead>\n",
       "    <tr style=\"text-align: right;\">\n",
       "      <th></th>\n",
       "      <th>Train_No</th>\n",
       "      <th>Train_Name</th>\n",
       "      <th>Source_Station_Name</th>\n",
       "      <th>Destination_Station_Name</th>\n",
       "      <th>days</th>\n",
       "    </tr>\n",
       "  </thead>\n",
       "  <tbody>\n",
       "    <tr>\n",
       "      <th>0</th>\n",
       "      <td>107</td>\n",
       "      <td>SWV-MAO-VLNK</td>\n",
       "      <td>SAWANTWADI ROAD</td>\n",
       "      <td>MADGOAN JN.</td>\n",
       "      <td>SATURDAY</td>\n",
       "    </tr>\n",
       "    <tr>\n",
       "      <th>4</th>\n",
       "      <td>401</td>\n",
       "      <td>BSB BHARATDA</td>\n",
       "      <td>AURANGABAD</td>\n",
       "      <td>VARANASI JN.</td>\n",
       "      <td>SATURDAY</td>\n",
       "    </tr>\n",
       "    <tr>\n",
       "      <th>21</th>\n",
       "      <td>1196</td>\n",
       "      <td>NGP-KRMI SPL</td>\n",
       "      <td>NAGPUR JN.(CR)</td>\n",
       "      <td>KARMALI</td>\n",
       "      <td>SATURDAY</td>\n",
       "    </tr>\n",
       "    <tr>\n",
       "      <th>28</th>\n",
       "      <td>1706</td>\n",
       "      <td>JBP-BDTS SF</td>\n",
       "      <td>JABALPUR</td>\n",
       "      <td>BANDRA TERMINUS</td>\n",
       "      <td>SATURDAY</td>\n",
       "    </tr>\n",
       "    <tr>\n",
       "      <th>45</th>\n",
       "      <td>2834</td>\n",
       "      <td>SRC-RJT SF A</td>\n",
       "      <td>SANTRAGACHI JN.</td>\n",
       "      <td>RAJKOT</td>\n",
       "      <td>SATURDAY</td>\n",
       "    </tr>\n",
       "    <tr>\n",
       "      <th>...</th>\n",
       "      <td>...</td>\n",
       "      <td>...</td>\n",
       "      <td>...</td>\n",
       "      <td>...</td>\n",
       "      <td>...</td>\n",
       "    </tr>\n",
       "    <tr>\n",
       "      <th>11084</th>\n",
       "      <td>99816</td>\n",
       "      <td>PUNE-LNL EMU</td>\n",
       "      <td>PUNE JN.</td>\n",
       "      <td>LONAVLA</td>\n",
       "      <td>SATURDAY</td>\n",
       "    </tr>\n",
       "    <tr>\n",
       "      <th>11086</th>\n",
       "      <td>99818</td>\n",
       "      <td>PUNE-LNL</td>\n",
       "      <td>PUNE JN.</td>\n",
       "      <td>LONAVLA</td>\n",
       "      <td>SATURDAY</td>\n",
       "    </tr>\n",
       "    <tr>\n",
       "      <th>11094</th>\n",
       "      <td>99826</td>\n",
       "      <td>PUNE-LNL EMU</td>\n",
       "      <td>PUNE JN.</td>\n",
       "      <td>LONAVLA</td>\n",
       "      <td>SATURDAY</td>\n",
       "    </tr>\n",
       "    <tr>\n",
       "      <th>11100</th>\n",
       "      <td>99832</td>\n",
       "      <td>PUNE-LNL EMU</td>\n",
       "      <td>SHIVAJINAGAR</td>\n",
       "      <td>LONAVLA</td>\n",
       "      <td>SATURDAY</td>\n",
       "    </tr>\n",
       "    <tr>\n",
       "      <th>11104</th>\n",
       "      <td>99836</td>\n",
       "      <td>PUNE-TGN EMU</td>\n",
       "      <td>PUNE JN.</td>\n",
       "      <td>LONAVLA</td>\n",
       "      <td>SATURDAY</td>\n",
       "    </tr>\n",
       "  </tbody>\n",
       "</table>\n",
       "<p>1593 rows × 5 columns</p>\n",
       "</div>"
      ],
      "text/plain": [
       "       Train_No    Train_Name Source_Station_Name Destination_Station_Name  \\\n",
       "0           107  SWV-MAO-VLNK     SAWANTWADI ROAD              MADGOAN JN.   \n",
       "4           401  BSB BHARATDA          AURANGABAD             VARANASI JN.   \n",
       "21         1196  NGP-KRMI SPL      NAGPUR JN.(CR)                  KARMALI   \n",
       "28         1706   JBP-BDTS SF            JABALPUR          BANDRA TERMINUS   \n",
       "45         2834  SRC-RJT SF A     SANTRAGACHI JN.                   RAJKOT   \n",
       "...         ...           ...                 ...                      ...   \n",
       "11084     99816  PUNE-LNL EMU            PUNE JN.                  LONAVLA   \n",
       "11086     99818      PUNE-LNL            PUNE JN.                  LONAVLA   \n",
       "11094     99826  PUNE-LNL EMU            PUNE JN.                  LONAVLA   \n",
       "11100     99832  PUNE-LNL EMU        SHIVAJINAGAR                  LONAVLA   \n",
       "11104     99836  PUNE-TGN EMU            PUNE JN.                  LONAVLA   \n",
       "\n",
       "           days  \n",
       "0      SATURDAY  \n",
       "4      SATURDAY  \n",
       "21     SATURDAY  \n",
       "28     SATURDAY  \n",
       "45     SATURDAY  \n",
       "...         ...  \n",
       "11084  SATURDAY  \n",
       "11086  SATURDAY  \n",
       "11094  SATURDAY  \n",
       "11100  SATURDAY  \n",
       "11104  SATURDAY  \n",
       "\n",
       "[1593 rows x 5 columns]"
      ]
     },
     "execution_count": 20,
     "metadata": {},
     "output_type": "execute_result"
    }
   ],
   "source": [
    "# Filter the DataFrame for trains that operate on Saturdays\n",
    "trains_on_saturday= data_frame[data_frame['days'] == 'SATURDAY']\n",
    "\n",
    "# Display the filtered DataFrame\n",
    "trains_on_saturday"
   ]
  },
  {
   "cell_type": "code",
   "execution_count": 21,
   "id": "2956301b-0280-4f12-8d5b-f6a9afcfc5cc",
   "metadata": {
    "tags": []
   },
   "outputs": [
    {
     "data": {
      "text/html": [
       "<div>\n",
       "<style scoped>\n",
       "    .dataframe tbody tr th:only-of-type {\n",
       "        vertical-align: middle;\n",
       "    }\n",
       "\n",
       "    .dataframe tbody tr th {\n",
       "        vertical-align: top;\n",
       "    }\n",
       "\n",
       "    .dataframe thead th {\n",
       "        text-align: right;\n",
       "    }\n",
       "</style>\n",
       "<table border=\"1\" class=\"dataframe\">\n",
       "  <thead>\n",
       "    <tr style=\"text-align: right;\">\n",
       "      <th></th>\n",
       "      <th>Train_No</th>\n",
       "      <th>Train_Name</th>\n",
       "      <th>Source_Station_Name</th>\n",
       "      <th>Destination_Station_Name</th>\n",
       "      <th>days</th>\n",
       "    </tr>\n",
       "  </thead>\n",
       "  <tbody>\n",
       "    <tr>\n",
       "      <th>11082</th>\n",
       "      <td>99814</td>\n",
       "      <td>PUNE-LNL EMU</td>\n",
       "      <td>SHIVAJINAGAR</td>\n",
       "      <td>LONAVLA</td>\n",
       "      <td>THURSDAY</td>\n",
       "    </tr>\n",
       "    <tr>\n",
       "      <th>11100</th>\n",
       "      <td>99832</td>\n",
       "      <td>PUNE-LNL EMU</td>\n",
       "      <td>SHIVAJINAGAR</td>\n",
       "      <td>LONAVLA</td>\n",
       "      <td>SATURDAY</td>\n",
       "    </tr>\n",
       "  </tbody>\n",
       "</table>\n",
       "</div>"
      ],
      "text/plain": [
       "       Train_No    Train_Name Source_Station_Name Destination_Station_Name  \\\n",
       "11082     99814  PUNE-LNL EMU        SHIVAJINAGAR                  LONAVLA   \n",
       "11100     99832  PUNE-LNL EMU        SHIVAJINAGAR                  LONAVLA   \n",
       "\n",
       "           days  \n",
       "11082  THURSDAY  \n",
       "11100  SATURDAY  "
      ]
     },
     "execution_count": 21,
     "metadata": {},
     "output_type": "execute_result"
    }
   ],
   "source": [
    "# Specify the source station\n",
    "station_name = 'SHIVAJINAGAR'\n",
    "# Filter the DataFrame for trains that start from the specific station\n",
    "trains_station_name = data_frame[data_frame['Source_Station_Name'] == station_name]\n",
    "# Display the filtered DataFrame\n",
    "trains_station_name"
   ]
  },
  {
   "cell_type": "markdown",
   "id": "3b99700e-fb86-4c94-90e8-5c7f8363ec09",
   "metadata": {},
   "source": [
    "### Task 2.2: Feature Generation\n",
    "* Group the data by source station and count the number of trains originating from each station.\n",
    "* Find the average number of trains per day for each source station."
   ]
  },
  {
   "cell_type": "code",
   "execution_count": 22,
   "id": "58b7393a-0f1c-4db7-a782-7bbd6b027cd8",
   "metadata": {
    "tags": []
   },
   "outputs": [
    {
     "data": {
      "text/html": [
       "<div>\n",
       "<style scoped>\n",
       "    .dataframe tbody tr th:only-of-type {\n",
       "        vertical-align: middle;\n",
       "    }\n",
       "\n",
       "    .dataframe tbody tr th {\n",
       "        vertical-align: top;\n",
       "    }\n",
       "\n",
       "    .dataframe thead th {\n",
       "        text-align: right;\n",
       "    }\n",
       "</style>\n",
       "<table border=\"1\" class=\"dataframe\">\n",
       "  <thead>\n",
       "    <tr style=\"text-align: right;\">\n",
       "      <th></th>\n",
       "      <th>Source_Station_Name</th>\n",
       "      <th>Number of Trains</th>\n",
       "    </tr>\n",
       "  </thead>\n",
       "  <tbody>\n",
       "    <tr>\n",
       "      <th>0</th>\n",
       "      <td>ABHANPUR JN.</td>\n",
       "      <td>2</td>\n",
       "    </tr>\n",
       "    <tr>\n",
       "      <th>1</th>\n",
       "      <td>ABOHAR</td>\n",
       "      <td>1</td>\n",
       "    </tr>\n",
       "    <tr>\n",
       "      <th>2</th>\n",
       "      <td>ABU ROAD</td>\n",
       "      <td>1</td>\n",
       "    </tr>\n",
       "    <tr>\n",
       "      <th>3</th>\n",
       "      <td>ACHHNERA JN.</td>\n",
       "      <td>1</td>\n",
       "    </tr>\n",
       "    <tr>\n",
       "      <th>4</th>\n",
       "      <td>ADILABAD</td>\n",
       "      <td>5</td>\n",
       "    </tr>\n",
       "    <tr>\n",
       "      <th>...</th>\n",
       "      <td>...</td>\n",
       "      <td>...</td>\n",
       "    </tr>\n",
       "    <tr>\n",
       "      <th>916</th>\n",
       "      <td>WARASEONI</td>\n",
       "      <td>1</td>\n",
       "    </tr>\n",
       "    <tr>\n",
       "      <th>917</th>\n",
       "      <td>WARDHA JN.</td>\n",
       "      <td>4</td>\n",
       "    </tr>\n",
       "    <tr>\n",
       "      <th>918</th>\n",
       "      <td>WHITE FIELD</td>\n",
       "      <td>2</td>\n",
       "    </tr>\n",
       "    <tr>\n",
       "      <th>919</th>\n",
       "      <td>YAMUNA BRIDGE</td>\n",
       "      <td>2</td>\n",
       "    </tr>\n",
       "    <tr>\n",
       "      <th>920</th>\n",
       "      <td>YESVANTPUR JN.</td>\n",
       "      <td>60</td>\n",
       "    </tr>\n",
       "  </tbody>\n",
       "</table>\n",
       "<p>921 rows × 2 columns</p>\n",
       "</div>"
      ],
      "text/plain": [
       "    Source_Station_Name  Number of Trains\n",
       "0          ABHANPUR JN.                 2\n",
       "1                ABOHAR                 1\n",
       "2              ABU ROAD                 1\n",
       "3          ACHHNERA JN.                 1\n",
       "4              ADILABAD                 5\n",
       "..                  ...               ...\n",
       "916           WARASEONI                 1\n",
       "917          WARDHA JN.                 4\n",
       "918         WHITE FIELD                 2\n",
       "919       YAMUNA BRIDGE                 2\n",
       "920      YESVANTPUR JN.                60\n",
       "\n",
       "[921 rows x 2 columns]"
      ]
     },
     "execution_count": 22,
     "metadata": {},
     "output_type": "execute_result"
    }
   ],
   "source": [
    "# Group by the source station and count the number of trains originating from each station\n",
    "count_train =data_frame.groupby('Source_Station_Name').size().reset_index(name='Number of Trains')\n",
    "# Display the resulting DataFrame\n",
    "count_train"
   ]
  },
  {
   "cell_type": "code",
   "execution_count": 23,
   "id": "3b9b989d-7eb0-46cf-945c-4407fef49a62",
   "metadata": {
    "tags": []
   },
   "outputs": [
    {
     "data": {
      "text/html": [
       "<div>\n",
       "<style scoped>\n",
       "    .dataframe tbody tr th:only-of-type {\n",
       "        vertical-align: middle;\n",
       "    }\n",
       "\n",
       "    .dataframe tbody tr th {\n",
       "        vertical-align: top;\n",
       "    }\n",
       "\n",
       "    .dataframe thead th {\n",
       "        text-align: right;\n",
       "    }\n",
       "</style>\n",
       "<table border=\"1\" class=\"dataframe\">\n",
       "  <thead>\n",
       "    <tr style=\"text-align: right;\">\n",
       "      <th></th>\n",
       "      <th>Source_Station_Name</th>\n",
       "      <th>days</th>\n",
       "      <th>Daily Train Count</th>\n",
       "    </tr>\n",
       "  </thead>\n",
       "  <tbody>\n",
       "    <tr>\n",
       "      <th>0</th>\n",
       "      <td>ABHANPUR JN.</td>\n",
       "      <td>SATURDAY</td>\n",
       "      <td>1</td>\n",
       "    </tr>\n",
       "    <tr>\n",
       "      <th>1</th>\n",
       "      <td>ABHANPUR JN.</td>\n",
       "      <td>TUESDAY</td>\n",
       "      <td>1</td>\n",
       "    </tr>\n",
       "    <tr>\n",
       "      <th>2</th>\n",
       "      <td>ABOHAR</td>\n",
       "      <td>WEDNESDAY</td>\n",
       "      <td>1</td>\n",
       "    </tr>\n",
       "    <tr>\n",
       "      <th>3</th>\n",
       "      <td>ABU ROAD</td>\n",
       "      <td>TUESDAY</td>\n",
       "      <td>1</td>\n",
       "    </tr>\n",
       "    <tr>\n",
       "      <th>4</th>\n",
       "      <td>ACHHNERA JN.</td>\n",
       "      <td>SATURDAY</td>\n",
       "      <td>1</td>\n",
       "    </tr>\n",
       "    <tr>\n",
       "      <th>...</th>\n",
       "      <td>...</td>\n",
       "      <td>...</td>\n",
       "      <td>...</td>\n",
       "    </tr>\n",
       "    <tr>\n",
       "      <th>3380</th>\n",
       "      <td>YESVANTPUR JN.</td>\n",
       "      <td>SATURDAY</td>\n",
       "      <td>8</td>\n",
       "    </tr>\n",
       "    <tr>\n",
       "      <th>3381</th>\n",
       "      <td>YESVANTPUR JN.</td>\n",
       "      <td>SUNDAY</td>\n",
       "      <td>6</td>\n",
       "    </tr>\n",
       "    <tr>\n",
       "      <th>3382</th>\n",
       "      <td>YESVANTPUR JN.</td>\n",
       "      <td>THURSDAY</td>\n",
       "      <td>10</td>\n",
       "    </tr>\n",
       "    <tr>\n",
       "      <th>3383</th>\n",
       "      <td>YESVANTPUR JN.</td>\n",
       "      <td>TUESDAY</td>\n",
       "      <td>9</td>\n",
       "    </tr>\n",
       "    <tr>\n",
       "      <th>3384</th>\n",
       "      <td>YESVANTPUR JN.</td>\n",
       "      <td>WEDNESDAY</td>\n",
       "      <td>11</td>\n",
       "    </tr>\n",
       "  </tbody>\n",
       "</table>\n",
       "<p>3385 rows × 3 columns</p>\n",
       "</div>"
      ],
      "text/plain": [
       "     Source_Station_Name       days  Daily Train Count\n",
       "0           ABHANPUR JN.   SATURDAY                  1\n",
       "1           ABHANPUR JN.    TUESDAY                  1\n",
       "2                 ABOHAR  WEDNESDAY                  1\n",
       "3               ABU ROAD    TUESDAY                  1\n",
       "4           ACHHNERA JN.   SATURDAY                  1\n",
       "...                  ...        ...                ...\n",
       "3380      YESVANTPUR JN.   SATURDAY                  8\n",
       "3381      YESVANTPUR JN.     SUNDAY                  6\n",
       "3382      YESVANTPUR JN.   THURSDAY                 10\n",
       "3383      YESVANTPUR JN.    TUESDAY                  9\n",
       "3384      YESVANTPUR JN.  WEDNESDAY                 11\n",
       "\n",
       "[3385 rows x 3 columns]"
      ]
     },
     "execution_count": 23,
     "metadata": {},
     "output_type": "execute_result"
    }
   ],
   "source": [
    "# Group by source station and day of operation and count the number of trains per day\n",
    "daily_count = data_frame.groupby(['Source_Station_Name', 'days']).size().reset_index(name='Daily Train Count')\n",
    "daily_count\n"
   ]
  },
  {
   "cell_type": "code",
   "execution_count": 24,
   "id": "f09dc43e-51f0-4b00-9aaa-0241293cdf7c",
   "metadata": {
    "tags": []
   },
   "outputs": [
    {
     "data": {
      "text/html": [
       "<div>\n",
       "<style scoped>\n",
       "    .dataframe tbody tr th:only-of-type {\n",
       "        vertical-align: middle;\n",
       "    }\n",
       "\n",
       "    .dataframe tbody tr th {\n",
       "        vertical-align: top;\n",
       "    }\n",
       "\n",
       "    .dataframe thead th {\n",
       "        text-align: right;\n",
       "    }\n",
       "</style>\n",
       "<table border=\"1\" class=\"dataframe\">\n",
       "  <thead>\n",
       "    <tr style=\"text-align: right;\">\n",
       "      <th></th>\n",
       "      <th>Source_Station_Name</th>\n",
       "      <th>Average Trains per Day</th>\n",
       "    </tr>\n",
       "  </thead>\n",
       "  <tbody>\n",
       "    <tr>\n",
       "      <th>0</th>\n",
       "      <td>ABHANPUR JN.</td>\n",
       "      <td>1.000000</td>\n",
       "    </tr>\n",
       "    <tr>\n",
       "      <th>1</th>\n",
       "      <td>ABOHAR</td>\n",
       "      <td>1.000000</td>\n",
       "    </tr>\n",
       "    <tr>\n",
       "      <th>2</th>\n",
       "      <td>ABU ROAD</td>\n",
       "      <td>1.000000</td>\n",
       "    </tr>\n",
       "    <tr>\n",
       "      <th>3</th>\n",
       "      <td>ACHHNERA JN.</td>\n",
       "      <td>1.000000</td>\n",
       "    </tr>\n",
       "    <tr>\n",
       "      <th>4</th>\n",
       "      <td>ADILABAD</td>\n",
       "      <td>1.250000</td>\n",
       "    </tr>\n",
       "    <tr>\n",
       "      <th>...</th>\n",
       "      <td>...</td>\n",
       "      <td>...</td>\n",
       "    </tr>\n",
       "    <tr>\n",
       "      <th>916</th>\n",
       "      <td>WARASEONI</td>\n",
       "      <td>1.000000</td>\n",
       "    </tr>\n",
       "    <tr>\n",
       "      <th>917</th>\n",
       "      <td>WARDHA JN.</td>\n",
       "      <td>1.000000</td>\n",
       "    </tr>\n",
       "    <tr>\n",
       "      <th>918</th>\n",
       "      <td>WHITE FIELD</td>\n",
       "      <td>1.000000</td>\n",
       "    </tr>\n",
       "    <tr>\n",
       "      <th>919</th>\n",
       "      <td>YAMUNA BRIDGE</td>\n",
       "      <td>1.000000</td>\n",
       "    </tr>\n",
       "    <tr>\n",
       "      <th>920</th>\n",
       "      <td>YESVANTPUR JN.</td>\n",
       "      <td>8.571429</td>\n",
       "    </tr>\n",
       "  </tbody>\n",
       "</table>\n",
       "<p>921 rows × 2 columns</p>\n",
       "</div>"
      ],
      "text/plain": [
       "    Source_Station_Name  Average Trains per Day\n",
       "0          ABHANPUR JN.                1.000000\n",
       "1                ABOHAR                1.000000\n",
       "2              ABU ROAD                1.000000\n",
       "3          ACHHNERA JN.                1.000000\n",
       "4              ADILABAD                1.250000\n",
       "..                  ...                     ...\n",
       "916           WARASEONI                1.000000\n",
       "917          WARDHA JN.                1.000000\n",
       "918         WHITE FIELD                1.000000\n",
       "919       YAMUNA BRIDGE                1.000000\n",
       "920      YESVANTPUR JN.                8.571429\n",
       "\n",
       "[921 rows x 2 columns]"
      ]
     },
     "execution_count": 24,
     "metadata": {},
     "output_type": "execute_result"
    }
   ],
   "source": [
    "# Group by source station and calculate the average number of trains per day\n",
    "avg_train_per_day = daily_count.groupby('Source_Station_Name')['Daily Train Count'].mean().reset_index(name='Average Trains per Day')\n",
    "# Display the resulting DataFrame\n",
    "avg_train_per_day "
   ]
  },
  {
   "cell_type": "markdown",
   "id": "04387524-6d06-4445-88e3-68da59e48acb",
   "metadata": {},
   "source": [
    "#### Task 2.3: Feature Enrichment\n",
    "* Add new columns that categorize trains based on their operating days (e.g.,(e.g., 'Weekday', 'Weekend') and other relevant features to enhance the dataset."
   ]
  },
  {
   "cell_type": "code",
   "execution_count": 25,
   "id": "0f4c3846-f9fc-4829-873c-6e36103839c1",
   "metadata": {
    "tags": []
   },
   "outputs": [
    {
     "data": {
      "text/html": [
       "<div>\n",
       "<style scoped>\n",
       "    .dataframe tbody tr th:only-of-type {\n",
       "        vertical-align: middle;\n",
       "    }\n",
       "\n",
       "    .dataframe tbody tr th {\n",
       "        vertical-align: top;\n",
       "    }\n",
       "\n",
       "    .dataframe thead th {\n",
       "        text-align: right;\n",
       "    }\n",
       "</style>\n",
       "<table border=\"1\" class=\"dataframe\">\n",
       "  <thead>\n",
       "    <tr style=\"text-align: right;\">\n",
       "      <th></th>\n",
       "      <th>Train_No</th>\n",
       "      <th>Train_Name</th>\n",
       "      <th>Source_Station_Name</th>\n",
       "      <th>Destination_Station_Name</th>\n",
       "      <th>days</th>\n",
       "      <th>WEEKEND_OR_WEEKDAY</th>\n",
       "    </tr>\n",
       "  </thead>\n",
       "  <tbody>\n",
       "    <tr>\n",
       "      <th>0</th>\n",
       "      <td>107</td>\n",
       "      <td>SWV-MAO-VLNK</td>\n",
       "      <td>SAWANTWADI ROAD</td>\n",
       "      <td>MADGOAN JN.</td>\n",
       "      <td>SATURDAY</td>\n",
       "      <td>Weekend</td>\n",
       "    </tr>\n",
       "    <tr>\n",
       "      <th>1</th>\n",
       "      <td>108</td>\n",
       "      <td>VLNK-MAO-SWV</td>\n",
       "      <td>MADGOAN JN.</td>\n",
       "      <td>SAWANTWADI ROAD</td>\n",
       "      <td>FRIDAY</td>\n",
       "      <td>Weekday</td>\n",
       "    </tr>\n",
       "    <tr>\n",
       "      <th>2</th>\n",
       "      <td>128</td>\n",
       "      <td>MAO-KOP SPEC</td>\n",
       "      <td>MADGOAN JN.</td>\n",
       "      <td>CHHATRAPATI SHAHU MAHARAJ TERMINUS</td>\n",
       "      <td>FRIDAY</td>\n",
       "      <td>Weekday</td>\n",
       "    </tr>\n",
       "    <tr>\n",
       "      <th>3</th>\n",
       "      <td>290</td>\n",
       "      <td>PALACE ON WH</td>\n",
       "      <td>DELHI-SAFDAR JANG</td>\n",
       "      <td>DELHI-SAFDAR JANG</td>\n",
       "      <td>WEDNESDAY</td>\n",
       "      <td>Weekday</td>\n",
       "    </tr>\n",
       "    <tr>\n",
       "      <th>4</th>\n",
       "      <td>401</td>\n",
       "      <td>BSB BHARATDA</td>\n",
       "      <td>AURANGABAD</td>\n",
       "      <td>VARANASI JN.</td>\n",
       "      <td>SATURDAY</td>\n",
       "      <td>Weekend</td>\n",
       "    </tr>\n",
       "  </tbody>\n",
       "</table>\n",
       "</div>"
      ],
      "text/plain": [
       "   Train_No    Train_Name Source_Station_Name  \\\n",
       "0       107  SWV-MAO-VLNK     SAWANTWADI ROAD   \n",
       "1       108  VLNK-MAO-SWV         MADGOAN JN.   \n",
       "2       128  MAO-KOP SPEC         MADGOAN JN.   \n",
       "3       290  PALACE ON WH   DELHI-SAFDAR JANG   \n",
       "4       401  BSB BHARATDA          AURANGABAD   \n",
       "\n",
       "             Destination_Station_Name       days WEEKEND_OR_WEEKDAY  \n",
       "0                         MADGOAN JN.   SATURDAY            Weekend  \n",
       "1                     SAWANTWADI ROAD     FRIDAY            Weekday  \n",
       "2  CHHATRAPATI SHAHU MAHARAJ TERMINUS     FRIDAY            Weekday  \n",
       "3                   DELHI-SAFDAR JANG  WEDNESDAY            Weekday  \n",
       "4                        VARANASI JN.   SATURDAY            Weekend  "
      ]
     },
     "execution_count": 25,
     "metadata": {},
     "output_type": "execute_result"
    }
   ],
   "source": [
    "# Define the function to create a weekday or weekend\n",
    "def weekday_or_not(day):\n",
    "    if day in ['SATURDAY', 'SUNDAY']:\n",
    "        return 'Weekend'\n",
    "    else:\n",
    "        return 'Weekday'\n",
    "# Apply the function to create a weekday or weekend\n",
    "data_frame['WEEKEND_OR_WEEKDAY'] = data_frame['days'].apply(weekday_or_not)\n",
    "data_frame.to_csv('modified_dataframe.csv', index=False)\n",
    "data_frame.head(5)"
   ]
  },
  {
   "cell_type": "markdown",
   "id": "ea0cc665-125f-48f0-bada-65c0840ce372",
   "metadata": {},
   "source": [
    "#### Level 3: Model Building and Evaluation\n",
    "##### Task 3.1: Model Training\n",
    "* Split the data into training and testing sets.\n",
    "* Train various machine learning models (e.g., linear regression, decision trees, randomforests) to predict frequency of operation."
   ]
  },
  {
   "cell_type": "code",
   "execution_count": 26,
   "id": "81713f89-2b74-420a-9497-9df070b8321e",
   "metadata": {},
   "outputs": [
    {
     "data": {
      "text/html": [
       "<div>\n",
       "<style scoped>\n",
       "    .dataframe tbody tr th:only-of-type {\n",
       "        vertical-align: middle;\n",
       "    }\n",
       "\n",
       "    .dataframe tbody tr th {\n",
       "        vertical-align: top;\n",
       "    }\n",
       "\n",
       "    .dataframe thead th {\n",
       "        text-align: right;\n",
       "    }\n",
       "</style>\n",
       "<table border=\"1\" class=\"dataframe\">\n",
       "  <thead>\n",
       "    <tr style=\"text-align: right;\">\n",
       "      <th></th>\n",
       "      <th>Train_No</th>\n",
       "      <th>Train_Name</th>\n",
       "      <th>Source_Station_Name</th>\n",
       "      <th>Destination_Station_Name</th>\n",
       "      <th>days</th>\n",
       "      <th>WEEKEND_OR_WEEKDAY</th>\n",
       "      <th>Frequency_of_operation</th>\n",
       "    </tr>\n",
       "  </thead>\n",
       "  <tbody>\n",
       "    <tr>\n",
       "      <th>0</th>\n",
       "      <td>107</td>\n",
       "      <td>SWV-MAO-VLNK</td>\n",
       "      <td>SAWANTWADI ROAD</td>\n",
       "      <td>MADGOAN JN.</td>\n",
       "      <td>SATURDAY</td>\n",
       "      <td>Weekend</td>\n",
       "      <td>1</td>\n",
       "    </tr>\n",
       "    <tr>\n",
       "      <th>1</th>\n",
       "      <td>108</td>\n",
       "      <td>VLNK-MAO-SWV</td>\n",
       "      <td>MADGOAN JN.</td>\n",
       "      <td>SAWANTWADI ROAD</td>\n",
       "      <td>FRIDAY</td>\n",
       "      <td>Weekday</td>\n",
       "      <td>1</td>\n",
       "    </tr>\n",
       "    <tr>\n",
       "      <th>2</th>\n",
       "      <td>128</td>\n",
       "      <td>MAO-KOP SPEC</td>\n",
       "      <td>MADGOAN JN.</td>\n",
       "      <td>CHHATRAPATI SHAHU MAHARAJ TERMINUS</td>\n",
       "      <td>FRIDAY</td>\n",
       "      <td>Weekday</td>\n",
       "      <td>1</td>\n",
       "    </tr>\n",
       "    <tr>\n",
       "      <th>3</th>\n",
       "      <td>290</td>\n",
       "      <td>PALACE ON WH</td>\n",
       "      <td>DELHI-SAFDAR JANG</td>\n",
       "      <td>DELHI-SAFDAR JANG</td>\n",
       "      <td>WEDNESDAY</td>\n",
       "      <td>Weekday</td>\n",
       "      <td>1</td>\n",
       "    </tr>\n",
       "    <tr>\n",
       "      <th>4</th>\n",
       "      <td>401</td>\n",
       "      <td>BSB BHARATDA</td>\n",
       "      <td>AURANGABAD</td>\n",
       "      <td>VARANASI JN.</td>\n",
       "      <td>SATURDAY</td>\n",
       "      <td>Weekend</td>\n",
       "      <td>1</td>\n",
       "    </tr>\n",
       "    <tr>\n",
       "      <th>...</th>\n",
       "      <td>...</td>\n",
       "      <td>...</td>\n",
       "      <td>...</td>\n",
       "      <td>...</td>\n",
       "      <td>...</td>\n",
       "      <td>...</td>\n",
       "      <td>...</td>\n",
       "    </tr>\n",
       "    <tr>\n",
       "      <th>11108</th>\n",
       "      <td>99904</td>\n",
       "      <td>PUNE-TGN EMU</td>\n",
       "      <td>PUNE JN.</td>\n",
       "      <td>TALEGAON</td>\n",
       "      <td>TUESDAY</td>\n",
       "      <td>Weekday</td>\n",
       "      <td>1</td>\n",
       "    </tr>\n",
       "    <tr>\n",
       "      <th>11109</th>\n",
       "      <td>99905</td>\n",
       "      <td>EMU</td>\n",
       "      <td>TALEGAON</td>\n",
       "      <td>SHIVAJINAGAR</td>\n",
       "      <td>MONDAY</td>\n",
       "      <td>Weekday</td>\n",
       "      <td>1</td>\n",
       "    </tr>\n",
       "    <tr>\n",
       "      <th>11110</th>\n",
       "      <td>99906</td>\n",
       "      <td>EMU</td>\n",
       "      <td>PUNE JN.</td>\n",
       "      <td>TALEGAON</td>\n",
       "      <td>WEDNESDAY</td>\n",
       "      <td>Weekday</td>\n",
       "      <td>1</td>\n",
       "    </tr>\n",
       "    <tr>\n",
       "      <th>11111</th>\n",
       "      <td>99907</td>\n",
       "      <td>EMU</td>\n",
       "      <td>TALEGAON</td>\n",
       "      <td>PUNE JN.</td>\n",
       "      <td>THURSDAY</td>\n",
       "      <td>Weekday</td>\n",
       "      <td>1</td>\n",
       "    </tr>\n",
       "    <tr>\n",
       "      <th>11112</th>\n",
       "      <td>99908</td>\n",
       "      <td>EMU</td>\n",
       "      <td>PUNE JN.</td>\n",
       "      <td>TALEGAON</td>\n",
       "      <td>SUNDAY</td>\n",
       "      <td>Weekend</td>\n",
       "      <td>1</td>\n",
       "    </tr>\n",
       "  </tbody>\n",
       "</table>\n",
       "<p>11113 rows × 7 columns</p>\n",
       "</div>"
      ],
      "text/plain": [
       "       Train_No    Train_Name Source_Station_Name  \\\n",
       "0           107  SWV-MAO-VLNK     SAWANTWADI ROAD   \n",
       "1           108  VLNK-MAO-SWV         MADGOAN JN.   \n",
       "2           128  MAO-KOP SPEC         MADGOAN JN.   \n",
       "3           290  PALACE ON WH   DELHI-SAFDAR JANG   \n",
       "4           401  BSB BHARATDA          AURANGABAD   \n",
       "...         ...           ...                 ...   \n",
       "11108     99904  PUNE-TGN EMU            PUNE JN.   \n",
       "11109     99905           EMU            TALEGAON   \n",
       "11110     99906           EMU            PUNE JN.   \n",
       "11111     99907           EMU            TALEGAON   \n",
       "11112     99908           EMU            PUNE JN.   \n",
       "\n",
       "                 Destination_Station_Name       days WEEKEND_OR_WEEKDAY  \\\n",
       "0                             MADGOAN JN.   SATURDAY            Weekend   \n",
       "1                         SAWANTWADI ROAD     FRIDAY            Weekday   \n",
       "2      CHHATRAPATI SHAHU MAHARAJ TERMINUS     FRIDAY            Weekday   \n",
       "3                       DELHI-SAFDAR JANG  WEDNESDAY            Weekday   \n",
       "4                            VARANASI JN.   SATURDAY            Weekend   \n",
       "...                                   ...        ...                ...   \n",
       "11108                            TALEGAON    TUESDAY            Weekday   \n",
       "11109                        SHIVAJINAGAR     MONDAY            Weekday   \n",
       "11110                            TALEGAON  WEDNESDAY            Weekday   \n",
       "11111                            PUNE JN.   THURSDAY            Weekday   \n",
       "11112                            TALEGAON     SUNDAY            Weekend   \n",
       "\n",
       "       Frequency_of_operation  \n",
       "0                           1  \n",
       "1                           1  \n",
       "2                           1  \n",
       "3                           1  \n",
       "4                           1  \n",
       "...                       ...  \n",
       "11108                       1  \n",
       "11109                       1  \n",
       "11110                       1  \n",
       "11111                       1  \n",
       "11112                       1  \n",
       "\n",
       "[11113 rows x 7 columns]"
      ]
     },
     "execution_count": 26,
     "metadata": {},
     "output_type": "execute_result"
    }
   ],
   "source": [
    "# Frequency of Operation\n",
    "data_frame['Frequency_of_operation'] = data_frame.groupby(['Train_No','Train_Name', 'Source_Station_Name', 'Destination_Station_Name'])['Train_No'].transform('count')\n",
    "data_frame\n"
   ]
  },
  {
   "cell_type": "code",
   "execution_count": 27,
   "id": "fd792ef6-9c61-4c15-9eec-618b0b363bc1",
   "metadata": {
    "tags": []
   },
   "outputs": [
    {
     "data": {
      "text/plain": [
       "1    11113\n",
       "Name: Frequency_of_operation, dtype: int64"
      ]
     },
     "execution_count": 27,
     "metadata": {},
     "output_type": "execute_result"
    }
   ],
   "source": [
    "data_frame['Frequency_of_operation'].value_counts()"
   ]
  },
  {
   "cell_type": "markdown",
   "id": "3ae8f423-eb9c-462f-9575-6db62365641e",
   "metadata": {},
   "source": [
    "##### LABEL ENCODING"
   ]
  },
  {
   "cell_type": "code",
   "execution_count": 28,
   "id": "86f96d72-9f9f-4954-8b7e-9644d0c0e598",
   "metadata": {},
   "outputs": [
    {
     "data": {
      "text/html": [
       "<div>\n",
       "<style scoped>\n",
       "    .dataframe tbody tr th:only-of-type {\n",
       "        vertical-align: middle;\n",
       "    }\n",
       "\n",
       "    .dataframe tbody tr th {\n",
       "        vertical-align: top;\n",
       "    }\n",
       "\n",
       "    .dataframe thead th {\n",
       "        text-align: right;\n",
       "    }\n",
       "</style>\n",
       "<table border=\"1\" class=\"dataframe\">\n",
       "  <thead>\n",
       "    <tr style=\"text-align: right;\">\n",
       "      <th></th>\n",
       "      <th>Train_No</th>\n",
       "      <th>Train_Name</th>\n",
       "      <th>Source_Station_Name</th>\n",
       "      <th>Destination_Station_Name</th>\n",
       "      <th>days</th>\n",
       "      <th>WEEKEND_OR_WEEKDAY</th>\n",
       "      <th>Frequency_of_operation</th>\n",
       "    </tr>\n",
       "  </thead>\n",
       "  <tbody>\n",
       "    <tr>\n",
       "      <th>0</th>\n",
       "      <td>107</td>\n",
       "      <td>6442</td>\n",
       "      <td>772</td>\n",
       "      <td>522</td>\n",
       "      <td>2</td>\n",
       "      <td>1</td>\n",
       "      <td>1</td>\n",
       "    </tr>\n",
       "    <tr>\n",
       "      <th>1</th>\n",
       "      <td>108</td>\n",
       "      <td>7378</td>\n",
       "      <td>522</td>\n",
       "      <td>775</td>\n",
       "      <td>0</td>\n",
       "      <td>0</td>\n",
       "      <td>1</td>\n",
       "    </tr>\n",
       "    <tr>\n",
       "      <th>2</th>\n",
       "      <td>128</td>\n",
       "      <td>4040</td>\n",
       "      <td>522</td>\n",
       "      <td>206</td>\n",
       "      <td>0</td>\n",
       "      <td>0</td>\n",
       "      <td>1</td>\n",
       "    </tr>\n",
       "    <tr>\n",
       "      <th>3</th>\n",
       "      <td>290</td>\n",
       "      <td>4872</td>\n",
       "      <td>249</td>\n",
       "      <td>248</td>\n",
       "      <td>6</td>\n",
       "      <td>0</td>\n",
       "      <td>1</td>\n",
       "    </tr>\n",
       "    <tr>\n",
       "      <th>4</th>\n",
       "      <td>401</td>\n",
       "      <td>1286</td>\n",
       "      <td>47</td>\n",
       "      <td>894</td>\n",
       "      <td>2</td>\n",
       "      <td>1</td>\n",
       "      <td>1</td>\n",
       "    </tr>\n",
       "    <tr>\n",
       "      <th>...</th>\n",
       "      <td>...</td>\n",
       "      <td>...</td>\n",
       "      <td>...</td>\n",
       "      <td>...</td>\n",
       "      <td>...</td>\n",
       "      <td>...</td>\n",
       "      <td>...</td>\n",
       "    </tr>\n",
       "    <tr>\n",
       "      <th>11108</th>\n",
       "      <td>99904</td>\n",
       "      <td>5363</td>\n",
       "      <td>694</td>\n",
       "      <td>835</td>\n",
       "      <td>5</td>\n",
       "      <td>0</td>\n",
       "      <td>1</td>\n",
       "    </tr>\n",
       "    <tr>\n",
       "      <th>11109</th>\n",
       "      <td>99905</td>\n",
       "      <td>2282</td>\n",
       "      <td>830</td>\n",
       "      <td>792</td>\n",
       "      <td>1</td>\n",
       "      <td>0</td>\n",
       "      <td>1</td>\n",
       "    </tr>\n",
       "    <tr>\n",
       "      <th>11110</th>\n",
       "      <td>99906</td>\n",
       "      <td>2282</td>\n",
       "      <td>694</td>\n",
       "      <td>835</td>\n",
       "      <td>6</td>\n",
       "      <td>0</td>\n",
       "      <td>1</td>\n",
       "    </tr>\n",
       "    <tr>\n",
       "      <th>11111</th>\n",
       "      <td>99907</td>\n",
       "      <td>2282</td>\n",
       "      <td>830</td>\n",
       "      <td>696</td>\n",
       "      <td>4</td>\n",
       "      <td>0</td>\n",
       "      <td>1</td>\n",
       "    </tr>\n",
       "    <tr>\n",
       "      <th>11112</th>\n",
       "      <td>99908</td>\n",
       "      <td>2282</td>\n",
       "      <td>694</td>\n",
       "      <td>835</td>\n",
       "      <td>3</td>\n",
       "      <td>1</td>\n",
       "      <td>1</td>\n",
       "    </tr>\n",
       "  </tbody>\n",
       "</table>\n",
       "<p>11113 rows × 7 columns</p>\n",
       "</div>"
      ],
      "text/plain": [
       "       Train_No  Train_Name  Source_Station_Name  Destination_Station_Name  \\\n",
       "0           107        6442                  772                       522   \n",
       "1           108        7378                  522                       775   \n",
       "2           128        4040                  522                       206   \n",
       "3           290        4872                  249                       248   \n",
       "4           401        1286                   47                       894   \n",
       "...         ...         ...                  ...                       ...   \n",
       "11108     99904        5363                  694                       835   \n",
       "11109     99905        2282                  830                       792   \n",
       "11110     99906        2282                  694                       835   \n",
       "11111     99907        2282                  830                       696   \n",
       "11112     99908        2282                  694                       835   \n",
       "\n",
       "       days  WEEKEND_OR_WEEKDAY  Frequency_of_operation  \n",
       "0         2                   1                       1  \n",
       "1         0                   0                       1  \n",
       "2         0                   0                       1  \n",
       "3         6                   0                       1  \n",
       "4         2                   1                       1  \n",
       "...     ...                 ...                     ...  \n",
       "11108     5                   0                       1  \n",
       "11109     1                   0                       1  \n",
       "11110     6                   0                       1  \n",
       "11111     4                   0                       1  \n",
       "11112     3                   1                       1  \n",
       "\n",
       "[11113 rows x 7 columns]"
      ]
     },
     "execution_count": 28,
     "metadata": {},
     "output_type": "execute_result"
    }
   ],
   "source": [
    "from sklearn.preprocessing import LabelEncoder\n",
    "feature_columns=['Train_Name','Source_Station_Name','Destination_Station_Name','days','WEEKEND_OR_WEEKDAY']\n",
    "# Convert categorical columns to numeric using LabelEncoder\n",
    "for column in feature_columns:\n",
    "    if data_frame[column].dtype == 'object':\n",
    "        le = LabelEncoder()\n",
    "        data_frame[column] = le.fit_transform(data_frame[column])\n",
    "data_frame"
   ]
  },
  {
   "cell_type": "markdown",
   "id": "de12f16e-dcae-4737-aba2-029dceb50622",
   "metadata": {},
   "source": [
    "##### BUIDING MODEL FOR PREDICTING 'FREQUENCY OF OPERATION'"
   ]
  },
  {
   "cell_type": "code",
   "execution_count": 29,
   "id": "0ee57b3e-7a22-4615-b83d-8cfbc7876b81",
   "metadata": {
    "tags": []
   },
   "outputs": [],
   "source": [
    "#First step in building the model is to identify the Feature(Input) variables and Target (Output) variable\n",
    "features = data_frame.drop(['Frequency_of_operation'], axis=1)\n",
    "target = data_frame['Frequency_of_operation']"
   ]
  },
  {
   "cell_type": "code",
   "execution_count": 30,
   "id": "3410ad41-30ad-4729-adfa-78c6d0b242b8",
   "metadata": {
    "tags": []
   },
   "outputs": [],
   "source": [
    "from sklearn.model_selection import train_test_split"
   ]
  },
  {
   "cell_type": "code",
   "execution_count": 31,
   "id": "645e66ba-1272-4562-9e3f-4dc0dfb66bba",
   "metadata": {},
   "outputs": [],
   "source": [
    "from sklearn.preprocessing import MinMaxScaler\n",
    "scaler = MinMaxScaler()"
   ]
  },
  {
   "cell_type": "code",
   "execution_count": 32,
   "id": "42b986a6-86d9-416a-b2b5-3c54f28e7d3b",
   "metadata": {
    "tags": []
   },
   "outputs": [
    {
     "name": "stdout",
     "output_type": "stream",
     "text": [
      "Train set of features:  (8890, 6)\n",
      "Test set of features:  (2223, 6)\n",
      "Target for train:  (8890,)\n",
      "Target for test:  (2223,)\n"
     ]
    }
   ],
   "source": [
    "# Splitting data for training the model and testing the model\n",
    "# train size taken as 0.8\n",
    "X_train, X_test, y_train, y_test = train_test_split(features, target, train_size = .8)\n",
    "# Dimensions of Train and Test Data sets\n",
    "print('Train set of features: ', X_train.shape)\n",
    "print('Test set of features: ', X_test.shape)\n",
    "print('Target for train: ', y_train.shape)\n",
    "print('Target for test: ', y_test.shape)"
   ]
  },
  {
   "cell_type": "code",
   "execution_count": 33,
   "id": "c44d574a-a90a-4eb0-bf68-819ab01e71ac",
   "metadata": {},
   "outputs": [
    {
     "data": {
      "text/plain": [
       "array([[0.9734171 , 0.27856954, 0.24347826, 0.30552546, 0.83333333,\n",
       "        0.        ],\n",
       "       [0.95192433, 0.75758775, 0.47826087, 0.46153846, 0.83333333,\n",
       "        0.        ],\n",
       "       [0.15471789, 0.52401689, 0.55652174, 0.43770314, 0.83333333,\n",
       "        0.        ],\n",
       "       ...,\n",
       "       [0.40678951, 0.58168382, 0.21847826, 0.93282774, 0.83333333,\n",
       "        0.        ],\n",
       "       [0.12612098, 0.89878596, 0.94673913, 0.21885157, 0.33333333,\n",
       "        1.        ],\n",
       "       [0.56872176, 0.65096331, 0.74565217, 0.98266522, 0.16666667,\n",
       "        0.        ]])"
      ]
     },
     "execution_count": 33,
     "metadata": {},
     "output_type": "execute_result"
    }
   ],
   "source": [
    "# Fit and transform the training data, transform the test data\n",
    "X_train_scaled = scaler.fit_transform(X_train)\n",
    "X_test_scaled = scaler.transform(X_test)\n",
    "X_train_scaled"
   ]
  },
  {
   "cell_type": "markdown",
   "id": "5a1d9a14-6bdf-4595-b729-83d80a5defbd",
   "metadata": {},
   "source": [
    "### Building the Models"
   ]
  },
  {
   "cell_type": "markdown",
   "id": "7075a58c-cfcd-48bf-acc0-4f409d2564dd",
   "metadata": {},
   "source": [
    "###  1. Linear Regression Model"
   ]
  },
  {
   "cell_type": "code",
   "execution_count": 34,
   "id": "765e31bf-6a66-4506-9431-5af7fbf30643",
   "metadata": {},
   "outputs": [],
   "source": [
    "# Learn the Linear Regression Model on train data\n",
    "from sklearn.linear_model import LinearRegression\n",
    "my_model_LR=LinearRegression()"
   ]
  },
  {
   "cell_type": "code",
   "execution_count": 35,
   "id": "94b57679-d05e-4467-b9f1-3680490b7dd9",
   "metadata": {},
   "outputs": [
    {
     "data": {
      "text/html": [
       "<style>#sk-container-id-1 {color: black;background-color: white;}#sk-container-id-1 pre{padding: 0;}#sk-container-id-1 div.sk-toggleable {background-color: white;}#sk-container-id-1 label.sk-toggleable__label {cursor: pointer;display: block;width: 100%;margin-bottom: 0;padding: 0.3em;box-sizing: border-box;text-align: center;}#sk-container-id-1 label.sk-toggleable__label-arrow:before {content: \"▸\";float: left;margin-right: 0.25em;color: #696969;}#sk-container-id-1 label.sk-toggleable__label-arrow:hover:before {color: black;}#sk-container-id-1 div.sk-estimator:hover label.sk-toggleable__label-arrow:before {color: black;}#sk-container-id-1 div.sk-toggleable__content {max-height: 0;max-width: 0;overflow: hidden;text-align: left;background-color: #f0f8ff;}#sk-container-id-1 div.sk-toggleable__content pre {margin: 0.2em;color: black;border-radius: 0.25em;background-color: #f0f8ff;}#sk-container-id-1 input.sk-toggleable__control:checked~div.sk-toggleable__content {max-height: 200px;max-width: 100%;overflow: auto;}#sk-container-id-1 input.sk-toggleable__control:checked~label.sk-toggleable__label-arrow:before {content: \"▾\";}#sk-container-id-1 div.sk-estimator input.sk-toggleable__control:checked~label.sk-toggleable__label {background-color: #d4ebff;}#sk-container-id-1 div.sk-label input.sk-toggleable__control:checked~label.sk-toggleable__label {background-color: #d4ebff;}#sk-container-id-1 input.sk-hidden--visually {border: 0;clip: rect(1px 1px 1px 1px);clip: rect(1px, 1px, 1px, 1px);height: 1px;margin: -1px;overflow: hidden;padding: 0;position: absolute;width: 1px;}#sk-container-id-1 div.sk-estimator {font-family: monospace;background-color: #f0f8ff;border: 1px dotted black;border-radius: 0.25em;box-sizing: border-box;margin-bottom: 0.5em;}#sk-container-id-1 div.sk-estimator:hover {background-color: #d4ebff;}#sk-container-id-1 div.sk-parallel-item::after {content: \"\";width: 100%;border-bottom: 1px solid gray;flex-grow: 1;}#sk-container-id-1 div.sk-label:hover label.sk-toggleable__label {background-color: #d4ebff;}#sk-container-id-1 div.sk-serial::before {content: \"\";position: absolute;border-left: 1px solid gray;box-sizing: border-box;top: 0;bottom: 0;left: 50%;z-index: 0;}#sk-container-id-1 div.sk-serial {display: flex;flex-direction: column;align-items: center;background-color: white;padding-right: 0.2em;padding-left: 0.2em;position: relative;}#sk-container-id-1 div.sk-item {position: relative;z-index: 1;}#sk-container-id-1 div.sk-parallel {display: flex;align-items: stretch;justify-content: center;background-color: white;position: relative;}#sk-container-id-1 div.sk-item::before, #sk-container-id-1 div.sk-parallel-item::before {content: \"\";position: absolute;border-left: 1px solid gray;box-sizing: border-box;top: 0;bottom: 0;left: 50%;z-index: -1;}#sk-container-id-1 div.sk-parallel-item {display: flex;flex-direction: column;z-index: 1;position: relative;background-color: white;}#sk-container-id-1 div.sk-parallel-item:first-child::after {align-self: flex-end;width: 50%;}#sk-container-id-1 div.sk-parallel-item:last-child::after {align-self: flex-start;width: 50%;}#sk-container-id-1 div.sk-parallel-item:only-child::after {width: 0;}#sk-container-id-1 div.sk-dashed-wrapped {border: 1px dashed gray;margin: 0 0.4em 0.5em 0.4em;box-sizing: border-box;padding-bottom: 0.4em;background-color: white;}#sk-container-id-1 div.sk-label label {font-family: monospace;font-weight: bold;display: inline-block;line-height: 1.2em;}#sk-container-id-1 div.sk-label-container {text-align: center;}#sk-container-id-1 div.sk-container {/* jupyter's `normalize.less` sets `[hidden] { display: none; }` but bootstrap.min.css set `[hidden] { display: none !important; }` so we also need the `!important` here to be able to override the default hidden behavior on the sphinx rendered scikit-learn.org. See: https://github.com/scikit-learn/scikit-learn/issues/21755 */display: inline-block !important;position: relative;}#sk-container-id-1 div.sk-text-repr-fallback {display: none;}</style><div id=\"sk-container-id-1\" class=\"sk-top-container\"><div class=\"sk-text-repr-fallback\"><pre>LinearRegression()</pre><b>In a Jupyter environment, please rerun this cell to show the HTML representation or trust the notebook. <br />On GitHub, the HTML representation is unable to render, please try loading this page with nbviewer.org.</b></div><div class=\"sk-container\" hidden><div class=\"sk-item\"><div class=\"sk-estimator sk-toggleable\"><input class=\"sk-toggleable__control sk-hidden--visually\" id=\"sk-estimator-id-1\" type=\"checkbox\" checked><label for=\"sk-estimator-id-1\" class=\"sk-toggleable__label sk-toggleable__label-arrow\">LinearRegression</label><div class=\"sk-toggleable__content\"><pre>LinearRegression()</pre></div></div></div></div></div>"
      ],
      "text/plain": [
       "LinearRegression()"
      ]
     },
     "execution_count": 35,
     "metadata": {},
     "output_type": "execute_result"
    }
   ],
   "source": [
    "# Fitting the model in train data set ie the Linear Regression Model should learn from the on Train Data\n",
    "my_model_LR.fit(X_train_scaled, y_train)"
   ]
  },
  {
   "cell_type": "code",
   "execution_count": 36,
   "id": "de096a8b-ac08-450f-a1bc-8a9de11046a7",
   "metadata": {},
   "outputs": [
    {
     "data": {
      "text/plain": [
       "array([1., 1., 1., ..., 1., 1., 1.])"
      ]
     },
     "execution_count": 36,
     "metadata": {},
     "output_type": "execute_result"
    }
   ],
   "source": [
    "# Predicting 'Frequency_of_operation' from Feature Test values\n",
    "y_pred_LR = my_model_LR.predict(X_test_scaled)\n",
    "y_pred_LR "
   ]
  },
  {
   "cell_type": "markdown",
   "id": "9b2f043f-304c-42fa-b605-0977f5b00eaa",
   "metadata": {},
   "source": [
    "#### Test the Linear Regression model"
   ]
  },
  {
   "cell_type": "code",
   "execution_count": 37,
   "id": "ba1d5c1e-c6db-421d-8aaa-bcf262240a67",
   "metadata": {
    "tags": []
   },
   "outputs": [],
   "source": [
    "from sklearn.metrics import accuracy_score,precision_score,recall_score,f1_score"
   ]
  },
  {
   "cell_type": "code",
   "execution_count": 38,
   "id": "d35ccf53-5b49-484c-9675-39f7e457f891",
   "metadata": {},
   "outputs": [],
   "source": [
    "from sklearn.metrics import mean_squared_error"
   ]
  },
  {
   "cell_type": "code",
   "execution_count": 39,
   "id": "9027df3e-743b-4593-a83b-1241e8a59b64",
   "metadata": {},
   "outputs": [
    {
     "data": {
      "text/plain": [
       "0.0"
      ]
     },
     "execution_count": 39,
     "metadata": {},
     "output_type": "execute_result"
    }
   ],
   "source": [
    "# Compare the predicted values with the true values\n",
    "mean_squared_error(y_pred_LR, y_test)"
   ]
  },
  {
   "cell_type": "code",
   "execution_count": 40,
   "id": "ed880f02-3b1d-4899-8038-e5bec60e9c21",
   "metadata": {},
   "outputs": [],
   "source": [
    "##### Coefficient of Determination or R Squared Value (r2)"
   ]
  },
  {
   "cell_type": "code",
   "execution_count": 41,
   "id": "91a2cbfa-44c1-411a-a877-31422c101acd",
   "metadata": {},
   "outputs": [],
   "source": [
    "from sklearn.metrics import r2_score"
   ]
  },
  {
   "cell_type": "code",
   "execution_count": 42,
   "id": "64f1a44e-2362-4469-b65c-16be898ce7d6",
   "metadata": {},
   "outputs": [
    {
     "data": {
      "text/plain": [
       "1.0"
      ]
     },
     "execution_count": 42,
     "metadata": {},
     "output_type": "execute_result"
    }
   ],
   "source": [
    "# find Coefficient of Determination or R Squared Value (r2)\n",
    "r2_score(y_test,y_pred_LR)"
   ]
  },
  {
   "cell_type": "code",
   "execution_count": 43,
   "id": "c55449f9-d1bb-4f0e-aee6-224a856cc6dc",
   "metadata": {},
   "outputs": [
    {
     "data": {
      "text/plain": [
       "1.0"
      ]
     },
     "execution_count": 43,
     "metadata": {},
     "output_type": "execute_result"
    }
   ],
   "source": [
    "accuracy_score(y_test, y_pred_LR)"
   ]
  },
  {
   "cell_type": "code",
   "execution_count": 44,
   "id": "8fa11403-334b-439b-9ac7-e55a361d82bb",
   "metadata": {},
   "outputs": [
    {
     "data": {
      "text/plain": [
       "1.0"
      ]
     },
     "execution_count": 44,
     "metadata": {},
     "output_type": "execute_result"
    }
   ],
   "source": [
    "recall_score(y_test, y_pred_LR)"
   ]
  },
  {
   "cell_type": "code",
   "execution_count": 45,
   "id": "45cb10e2-4e30-4fba-aa26-86152ec8be55",
   "metadata": {},
   "outputs": [
    {
     "data": {
      "text/plain": [
       "1.0"
      ]
     },
     "execution_count": 45,
     "metadata": {},
     "output_type": "execute_result"
    }
   ],
   "source": [
    "precision_score(y_test, y_pred_LR)"
   ]
  },
  {
   "cell_type": "markdown",
   "id": "15cca672-66b3-465f-a6a4-da78589e2f4d",
   "metadata": {},
   "source": [
    "### 2. Decision Tree model"
   ]
  },
  {
   "cell_type": "code",
   "execution_count": 46,
   "id": "ebd5c081-8288-4d20-9b54-bfbbb31c82a3",
   "metadata": {},
   "outputs": [],
   "source": [
    "from sklearn.tree import DecisionTreeRegressor\n",
    "my_model_DT=DecisionTreeRegressor(max_depth=10,random_state = 0)"
   ]
  },
  {
   "cell_type": "code",
   "execution_count": 47,
   "id": "757e7c65-8155-4474-86d9-2878b85e4f95",
   "metadata": {},
   "outputs": [],
   "source": [
    "# Fitting the DT model in train data set \n",
    "my_model_DT=my_model_DT.fit(X_train_scaled, y_train)"
   ]
  },
  {
   "cell_type": "code",
   "execution_count": 48,
   "id": "72590395-0313-4f09-b858-5458bb12b98e",
   "metadata": {},
   "outputs": [
    {
     "data": {
      "text/plain": [
       "array([1., 1., 1., ..., 1., 1., 1.])"
      ]
     },
     "execution_count": 48,
     "metadata": {},
     "output_type": "execute_result"
    }
   ],
   "source": [
    "# Predicting from Feature Test values\n",
    "y_pred_DT = my_model_DT.predict(X_test_scaled)\n",
    "y_pred_DT"
   ]
  },
  {
   "cell_type": "markdown",
   "id": "7bf6e0fb-8850-4769-9025-4f5e5db0a0ee",
   "metadata": {},
   "source": [
    "#### Testing the Decision Tree Regression Model"
   ]
  },
  {
   "cell_type": "code",
   "execution_count": 49,
   "id": "c3a2200a-48cf-4f10-8bff-10714de3cc3e",
   "metadata": {},
   "outputs": [
    {
     "data": {
      "text/plain": [
       "0.0"
      ]
     },
     "execution_count": 49,
     "metadata": {},
     "output_type": "execute_result"
    }
   ],
   "source": [
    "# Compare the predicted values with the true values\n",
    "mean_squared_error(y_pred_DT, y_test)"
   ]
  },
  {
   "cell_type": "code",
   "execution_count": 50,
   "id": "cb44fc04-4aed-4ed5-b822-bb2e78426fc1",
   "metadata": {},
   "outputs": [
    {
     "data": {
      "text/plain": [
       "1.0"
      ]
     },
     "execution_count": 50,
     "metadata": {},
     "output_type": "execute_result"
    }
   ],
   "source": [
    "# find Coefficient of Determination or R Squared Value (r2)\n",
    "r2_score(y_test,y_pred_DT)"
   ]
  },
  {
   "cell_type": "code",
   "execution_count": 51,
   "id": "761aaab6-404a-4385-9a3d-63e15949ae05",
   "metadata": {},
   "outputs": [
    {
     "data": {
      "text/plain": [
       "1.0"
      ]
     },
     "execution_count": 51,
     "metadata": {},
     "output_type": "execute_result"
    }
   ],
   "source": [
    "accuracy_score(y_test, y_pred_DT)"
   ]
  },
  {
   "cell_type": "code",
   "execution_count": 52,
   "id": "b131acf6-8e7d-4611-9650-6caa403e8adb",
   "metadata": {},
   "outputs": [
    {
     "data": {
      "text/plain": [
       "1.0"
      ]
     },
     "execution_count": 52,
     "metadata": {},
     "output_type": "execute_result"
    }
   ],
   "source": [
    "precision_score(y_test, y_pred_DT)"
   ]
  },
  {
   "cell_type": "code",
   "execution_count": 53,
   "id": "ae54d4aa-4d06-44a8-9f00-c5892e05ef4c",
   "metadata": {},
   "outputs": [
    {
     "data": {
      "text/plain": [
       "1.0"
      ]
     },
     "execution_count": 53,
     "metadata": {},
     "output_type": "execute_result"
    }
   ],
   "source": [
    "recall_score(y_test, y_pred_DT)"
   ]
  },
  {
   "cell_type": "markdown",
   "id": "3cbd88a0-feb8-46eb-b42c-d32e3ecd1b5f",
   "metadata": {},
   "source": [
    "### 3. Random Forest Classifier Model"
   ]
  },
  {
   "cell_type": "code",
   "execution_count": 54,
   "id": "9b68c0ee-f91a-4698-a9a3-20408d9839da",
   "metadata": {},
   "outputs": [],
   "source": [
    "from sklearn.ensemble import RandomForestRegressor\n",
    "my_model_RF=RandomForestRegressor(random_state=10)"
   ]
  },
  {
   "cell_type": "code",
   "execution_count": 55,
   "id": "b0f780e9-f020-4e5d-b582-25c02432d678",
   "metadata": {},
   "outputs": [],
   "source": [
    "# Fitting the Random Forest Classifier model in train data set\n",
    "my_model_RF=my_model_RF.fit(X_train_scaled, y_train)"
   ]
  },
  {
   "cell_type": "code",
   "execution_count": 56,
   "id": "cfccac6d-7123-42bc-95f8-23a66b9ae78d",
   "metadata": {},
   "outputs": [
    {
     "data": {
      "text/plain": [
       "array([1., 1., 1., ..., 1., 1., 1.])"
      ]
     },
     "execution_count": 56,
     "metadata": {},
     "output_type": "execute_result"
    }
   ],
   "source": [
    "# Predicting from Feature Test values\n",
    "y_pred_RF=my_model_RF.predict(X_test_scaled)\n",
    "y_pred_RF"
   ]
  },
  {
   "cell_type": "code",
   "execution_count": 57,
   "id": "dc14f146-f53a-439b-a8ee-e604c1c17641",
   "metadata": {},
   "outputs": [],
   "source": [
    "#### Testing the Random Forest Classifier Model"
   ]
  },
  {
   "cell_type": "code",
   "execution_count": 58,
   "id": "ae21cea2-d85c-41eb-ad9d-cbcbaae45895",
   "metadata": {},
   "outputs": [
    {
     "data": {
      "text/plain": [
       "0.0"
      ]
     },
     "execution_count": 58,
     "metadata": {},
     "output_type": "execute_result"
    }
   ],
   "source": [
    "# Compare the predicted values with the true values\n",
    "mean_squared_error(y_pred_RF, y_test)"
   ]
  },
  {
   "cell_type": "code",
   "execution_count": 59,
   "id": "119ab481-efa0-4c72-acbe-f24627d133d0",
   "metadata": {},
   "outputs": [
    {
     "data": {
      "text/plain": [
       "1.0"
      ]
     },
     "execution_count": 59,
     "metadata": {},
     "output_type": "execute_result"
    }
   ],
   "source": [
    "# find Coefficient of Determination or R Squared Value (r2)\n",
    "r2_score(y_test,y_pred_RF)"
   ]
  },
  {
   "cell_type": "code",
   "execution_count": 60,
   "id": "98bb5659-c47c-4720-8c61-e690fad02b1d",
   "metadata": {},
   "outputs": [
    {
     "data": {
      "text/plain": [
       "1.0"
      ]
     },
     "execution_count": 60,
     "metadata": {},
     "output_type": "execute_result"
    }
   ],
   "source": [
    "accuracy_score(y_test, y_pred_RF)"
   ]
  },
  {
   "cell_type": "code",
   "execution_count": 61,
   "id": "b0fb5078-883c-4358-a5f3-c5546ac941bf",
   "metadata": {},
   "outputs": [
    {
     "data": {
      "text/plain": [
       "1.0"
      ]
     },
     "execution_count": 61,
     "metadata": {},
     "output_type": "execute_result"
    }
   ],
   "source": [
    "precision_score(y_test, y_pred_RF)"
   ]
  },
  {
   "cell_type": "code",
   "execution_count": 62,
   "id": "628b8530-7c25-4904-a0e9-82e6de0fd950",
   "metadata": {},
   "outputs": [
    {
     "data": {
      "text/plain": [
       "1.0"
      ]
     },
     "execution_count": 62,
     "metadata": {},
     "output_type": "execute_result"
    }
   ],
   "source": [
    "recall_score(y_test, y_pred_RF)"
   ]
  },
  {
   "cell_type": "markdown",
   "id": "572bcdef-0afa-44a9-8bbf-eb6dd2dbaede",
   "metadata": {},
   "source": [
    " * In the given dataset , the frequency of Operation has only one unique value ie '1'.\n",
    " * So we can see that 'accuracy', 'precision', 'recall' are '1.0' and the 'mean squared error' value is '0.0' for all the 3 models."
   ]
  },
  {
   "cell_type": "markdown",
   "id": "3aaa4814-bee6-4e3c-8894-a5e92b687713",
   "metadata": {},
   "source": [
    "##### * For the further proccessing, Random Forest Regressor model is taken out of 3 models assuming that it has better performance."
   ]
  },
  {
   "cell_type": "markdown",
   "id": "59960199-2a8a-4c6c-b501-32f718eb9c26",
   "metadata": {},
   "source": [
    "#### Level 4: Advanced Model Optimization and Deployment\n",
    "##### Task 4.1: Hyperparameter Tuning\n",
    " \n",
    "* Perform hyperparameter tuning on the best-performing model using techniques such as Grid Search or Random Search to improve its performance."
   ]
  },
  {
   "cell_type": "code",
   "execution_count": null,
   "id": "cf7320d7-781a-4bd9-b4e0-34231db554d6",
   "metadata": {
    "tags": []
   },
   "outputs": [
    {
     "name": "stdout",
     "output_type": "stream",
     "text": [
      "Fitting 5 folds for each of 108 candidates, totalling 540 fits\n"
     ]
    },
    {
     "name": "stderr",
     "output_type": "stream",
     "text": [
      "exception calling callback for <Future at 0x266f3cd2c50 state=finished raised TerminatedWorkerError>\n",
      "Traceback (most recent call last):\n",
      "  File \"C:\\Users\\sinus\\anaconda3\\Lib\\site-packages\\joblib\\externals\\loky\\_base.py\", line 26, in _invoke_callbacks\n",
      "    callback(self)\n",
      "  File \"C:\\Users\\sinus\\anaconda3\\Lib\\site-packages\\joblib\\parallel.py\", line 385, in __call__\n",
      "    self.parallel.dispatch_next()\n",
      "  File \"C:\\Users\\sinus\\anaconda3\\Lib\\site-packages\\joblib\\parallel.py\", line 834, in dispatch_next\n",
      "    if not self.dispatch_one_batch(self._original_iterator):\n",
      "           ^^^^^^^^^^^^^^^^^^^^^^^^^^^^^^^^^^^^^^^^^^^^^^^^\n",
      "  File \"C:\\Users\\sinus\\anaconda3\\Lib\\site-packages\\joblib\\parallel.py\", line 901, in dispatch_one_batch\n",
      "    self._dispatch(tasks)\n",
      "  File \"C:\\Users\\sinus\\anaconda3\\Lib\\site-packages\\joblib\\parallel.py\", line 819, in _dispatch\n",
      "    job = self._backend.apply_async(batch, callback=cb)\n",
      "          ^^^^^^^^^^^^^^^^^^^^^^^^^^^^^^^^^^^^^^^^^^^^^\n",
      "  File \"C:\\Users\\sinus\\anaconda3\\Lib\\site-packages\\joblib\\_parallel_backends.py\", line 556, in apply_async\n",
      "    future = self._workers.submit(SafeFunction(func))\n",
      "             ^^^^^^^^^^^^^^^^^^^^^^^^^^^^^^^^^^^^^^^^\n",
      "  File \"C:\\Users\\sinus\\anaconda3\\Lib\\site-packages\\joblib\\externals\\loky\\reusable_executor.py\", line 176, in submit\n",
      "    return super().submit(fn, *args, **kwargs)\n",
      "           ^^^^^^^^^^^^^^^^^^^^^^^^^^^^^^^^^^^\n",
      "  File \"C:\\Users\\sinus\\anaconda3\\Lib\\site-packages\\joblib\\externals\\loky\\process_executor.py\", line 1129, in submit\n",
      "    raise self._flags.broken\n",
      "joblib.externals.loky.process_executor.TerminatedWorkerError: A worker process managed by the executor was unexpectedly terminated. This could be caused by a segmentation fault while calling the function or by an excessive memory usage causing the Operating System to kill the worker.\n",
      "\n"
     ]
    }
   ],
   "source": [
    "from sklearn.ensemble import RandomForestRegressor\n",
    "from sklearn.model_selection import train_test_split, GridSearchCV\n",
    "rf = RandomForestRegressor(random_state=42)\n",
    "\n",
    "# hyperparameters grid to search over\n",
    "param_grid = {\n",
    "    'n_estimators': [50, 100, 200],          # Number of trees in the forest\n",
    "    'max_depth': [None, 10, 20, 30],         # Maximum depth of the tree\n",
    "    'min_samples_split': [2, 5, 10],         # Minimum number of samples required to split an internal node\n",
    "    'min_samples_leaf': [1, 2, 4]            # Minimum number of samples required to be at a leaf node\n",
    "}\n",
    "\n",
    "# GridSearchCV\n",
    "grid_search = GridSearchCV(estimator=rf, param_grid=param_grid, cv=5, n_jobs=-1, verbose=2, scoring='neg_mean_squared_error')\n",
    "# grid search on the training data\n",
    "grid_search.fit(X_train_scaled, y_train)\n",
    "#  Extract of  best model \n",
    "best_rf = grid_search.best_estimator_\n",
    "y_pred_RFG = best_rf.predict(X_test_scaled)\n",
    "# Evaluate\n",
    "mse = mean_squared_error(y_pred_RFG, y_test)\n",
    "rmse = mse ** 0.5\n",
    "print(f\"Best Hyperparameters: {grid_search.best_params_}\")\n",
    "print(f\"Mean Squared Error: {mse}\")\n",
    "print(f\"Root Mean Squared Error: {rmse}\")\n",
    "# Save the best model for future use\n",
    "import joblib"
   ]
  },
  {
   "cell_type": "markdown",
   "id": "3d7effaf-c718-47b2-b294-60ec71a731ca",
   "metadata": {},
   "source": [
    "#### Feature Importance Plot"
   ]
  },
  {
   "cell_type": "code",
   "execution_count": null,
   "id": "9ab2d9f6-fcde-4139-963f-2b77c413b722",
   "metadata": {},
   "outputs": [],
   "source": [
    "# Re-importing necessary libraries and re-preprocessing the data\n",
    "import pandas as pd\n",
    "import numpy as np\n",
    "import matplotlib.pyplot as plt\n",
    "from sklearn.ensemble import RandomForestClassifier\n",
    "\n",
    "\n",
    "data_frame = pd.read_csv('C:/Users/sinus/OneDrive/Documents/COGNIFYZ/secondmonth/Railway_info.csv')\n",
    "data_frame.info()\n",
    "data_frame['days'].replace({'Mondayd': 'Monday', 'Tuesdayd': 'Tuesday','Wednesdayd': 'Wednesday','Thursdayd': 'Thursday','Fridayd': 'Friday','Saturdayd': 'Saturday','Sundayd': 'Sunday'}, inplace=True)\n",
    "\n",
    "data_frame = data_frame.drop('Train_No', axis=1)\n",
    "# Convert categorical columns to numeric using LabelEncoder\n",
    "for column in data_frame.columns:\n",
    "    if data_frame[column].dtype == 'object':\n",
    "        le = LabelEncoder()\n",
    "        data_frame[column] = le.fit_transform(data_frame[column])\n",
    "\n",
    "data_frame['Frequency_of_operation'] = data_frame.groupby(['Train_Name', 'Source_Station_Name', 'Destination_Station_Name','days'])['Train_Name'].transform('count')\n",
    "\n",
    "# Split the data into features and target\n",
    "X_fi = data_frame.drop('Frequency_of_operation', axis=1)\n",
    "y_fi = data_frame['Frequency_of_operation']\n",
    "\n",
    "# Train the Random Forest Classifier\n",
    "rf_fi = RandomForestClassifier(random_state=50)\n",
    "rf_fi.fit(X_fi, y_fi)\n",
    "\n",
    "# Get feature importances and sort them\n",
    "importances = rf_fi.feature_importances_\n",
    "indices = np.argsort(importances)[::-1]\n",
    "feature_names = X_fi.columns.tolist()\n",
    "# Plotting the feature importances\n",
    "plt.figure(figsize=(10,5))\n",
    "plt.title(\"Importance of Features\")\n",
    "plt.bar(range(X_fi.shape[1]), importances[indices], align=\"center\",color='brown')\n",
    "plt.xticks(range(X_fi.shape[1]), [feature_names[i] for i in indices], rotation=45)\n",
    "plt.xlim([-1, X_fi.shape[1]])\n",
    "plt.tight_layout()\n",
    "#save the figure\n",
    "plt.savefig('./feature_importance.png')\n",
    "plt.show()\n"
   ]
  },
  {
   "cell_type": "markdown",
   "id": "699a46e2-ff89-4c21-9d9b-56d30ab98ce5",
   "metadata": {},
   "source": [
    "#### Task 4.2: Model Deployment\n",
    "* Prepare the final model for deployment, ensuring it is optimized and efficient.\n",
    "* Develop a pipeline for model deployment, including data preprocessing, feature engineering, and prediction."
   ]
  },
  {
   "cell_type": "markdown",
   "id": "45c4539a-1070-4a53-bc7e-7c599b381f93",
   "metadata": {},
   "source": [
    "-------------------------------To be continued in another Jupyter Notebook----------------------------------"
   ]
  }
 ],
 "metadata": {
  "kernelspec": {
   "display_name": "Python 3 (ipykernel)",
   "language": "python",
   "name": "python3"
  },
  "language_info": {
   "codemirror_mode": {
    "name": "ipython",
    "version": 3
   },
   "file_extension": ".py",
   "mimetype": "text/x-python",
   "name": "python",
   "nbconvert_exporter": "python",
   "pygments_lexer": "ipython3",
   "version": "3.11.4"
  }
 },
 "nbformat": 4,
 "nbformat_minor": 5
}
